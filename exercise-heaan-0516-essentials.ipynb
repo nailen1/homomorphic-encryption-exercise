{
 "cells": [
  {
   "cell_type": "code",
   "execution_count": 1,
   "id": "de6ddda3",
   "metadata": {},
   "outputs": [
    {
     "name": "stdout",
     "output_type": "stream",
     "text": [
      "Requirement already satisfied: pi-heaan in /Users/daniel/opt/anaconda3/lib/python3.9/site-packages (3.4.1.3)\n",
      "Note: you may need to restart the kernel to use updated packages.\n"
     ]
    }
   ],
   "source": [
    "pip install pi-heaan"
   ]
  },
  {
   "cell_type": "code",
   "execution_count": 2,
   "id": "51d2d7a5",
   "metadata": {},
   "outputs": [],
   "source": [
    "import piheaan as heaan \n",
    "from piheaan.math import approx"
   ]
  },
  {
   "cell_type": "markdown",
   "id": "5ae670dd",
   "metadata": {},
   "source": [
    "# (STEP) parameter 설정 후 context 생성"
   ]
  },
  {
   "cell_type": "code",
   "execution_count": 58,
   "id": "35bcb634",
   "metadata": {},
   "outputs": [],
   "source": [
    "params = heaan.ParameterPreset.FGb\n",
    "context = heaan.make_context(params)\n",
    "heaan.make_bootstrappable(context)"
   ]
  },
  {
   "cell_type": "code",
   "execution_count": 59,
   "id": "87e377f8",
   "metadata": {},
   "outputs": [
    {
     "data": {
      "text/plain": [
       "<ParameterPreset.FGb: 3>"
      ]
     },
     "execution_count": 59,
     "metadata": {},
     "output_type": "execute_result"
    }
   ],
   "source": [
    "params"
   ]
  },
  {
   "cell_type": "code",
   "execution_count": 60,
   "id": "6e0032bf",
   "metadata": {},
   "outputs": [
    {
     "data": {
      "text/plain": [
       "<piheaan.Context at 0x7ff0f6966070>"
      ]
     },
     "execution_count": 60,
     "metadata": {},
     "output_type": "execute_result"
    }
   ],
   "source": [
    "context"
   ]
  },
  {
   "cell_type": "markdown",
   "id": "2ff991a2",
   "metadata": {},
   "source": [
    "# (STEP) context에 대한 secret key, public key 생성"
   ]
  },
  {
   "cell_type": "code",
   "execution_count": 61,
   "id": "ff54b49d",
   "metadata": {},
   "outputs": [],
   "source": [
    "key_dir_path='./key_new'\n",
    "secret_key = heaan.SecretKey(context)\n",
    "secret_key.save('./secret_key.bin')\n",
    "key_generator = heaan.KeyGenerator(context, secret_key)\n",
    "key_generator.gen_common_keys()\n",
    "key_generator.save(key_dir_path)\n",
    "public_key = key_generator.keypack"
   ]
  },
  {
   "cell_type": "code",
   "execution_count": 62,
   "id": "e22c1b30",
   "metadata": {
    "scrolled": true
   },
   "outputs": [
    {
     "data": {
      "text/plain": [
       "<piheaan.SecretKey at 0x7ff0f698d170>"
      ]
     },
     "execution_count": 62,
     "metadata": {},
     "output_type": "execute_result"
    }
   ],
   "source": [
    "secret_key"
   ]
  },
  {
   "cell_type": "code",
   "execution_count": 64,
   "id": "d818aabd",
   "metadata": {
    "scrolled": true
   },
   "outputs": [
    {
     "data": {
      "text/plain": [
       "<piheaan.KeyPack at 0x7ff0f695e1b0>"
      ]
     },
     "execution_count": 64,
     "metadata": {},
     "output_type": "execute_result"
    }
   ],
   "source": [
    "public_key"
   ]
  },
  {
   "cell_type": "markdown",
   "id": "10e9aea2",
   "metadata": {},
   "source": [
    "# (STEP) message 메세지 슬롯 준비 "
   ]
  },
  {
   "cell_type": "code",
   "execution_count": 112,
   "id": "a5059e96",
   "metadata": {
    "scrolled": true
   },
   "outputs": [
    {
     "data": {
      "text/plain": [
       "15"
      ]
     },
     "execution_count": 112,
     "metadata": {},
     "output_type": "execute_result"
    }
   ],
   "source": [
    "# byte 개수?\n",
    "log_slots = heaan.get_log_full_slots(context)\n",
    "log_slots"
   ]
  },
  {
   "cell_type": "code",
   "execution_count": 113,
   "id": "fafd2782",
   "metadata": {},
   "outputs": [
    {
     "data": {
      "text/plain": [
       "32768"
      ]
     },
     "execution_count": 113,
     "metadata": {},
     "output_type": "execute_result"
    }
   ],
   "source": [
    "# 가능한 메세지 수?\n",
    "num_slots = 2**log_slots\n",
    "num_slots"
   ]
  },
  {
   "cell_type": "code",
   "execution_count": 114,
   "id": "9e205491",
   "metadata": {},
   "outputs": [
    {
     "data": {
      "text/plain": [
       "array([    0,     1,     2, ..., 32765, 32766, 32767])"
      ]
     },
     "execution_count": 114,
     "metadata": {},
     "output_type": "execute_result"
    }
   ],
   "source": [
    "# 메세지에 들어갈 숫자데이터 준비\n",
    "data = [i for i in range(num_slots)]\n",
    "import numpy as np\n",
    "np.array(data)"
   ]
  },
  {
   "cell_type": "code",
   "execution_count": 76,
   "id": "515588d1",
   "metadata": {
    "scrolled": true
   },
   "outputs": [
    {
     "data": {
      "text/plain": [
       "[ (0.000000+0.000000j), (0.000000+0.000000j), (0.000000+0.000000j), (0.000000+0.000000j), (0.000000+0.000000j), ..., (0.000000+0.000000j), (0.000000+0.000000j), (0.000000+0.000000j), (0.000000+0.000000j), (0.000000+0.000000j) ]"
      ]
     },
     "execution_count": 76,
     "metadata": {},
     "output_type": "execute_result"
    }
   ],
   "source": [
    "message = heaan.Message(log_slots)\n",
    "message"
   ]
  },
  {
   "cell_type": "markdown",
   "id": "4b34b8f8",
   "metadata": {},
   "source": [
    "# (STEP) message에 data 채워넣기"
   ]
  },
  {
   "cell_type": "code",
   "execution_count": 96,
   "id": "3d774b5f",
   "metadata": {},
   "outputs": [],
   "source": [
    "for i in range(num_slots):\n",
    "    message[i] = data[i]"
   ]
  },
  {
   "cell_type": "code",
   "execution_count": 97,
   "id": "6f3e640c",
   "metadata": {
    "scrolled": true
   },
   "outputs": [
    {
     "data": {
      "text/plain": [
       "[ (0.000000+0.000000j), (1.000000+0.000000j), (2.000000+0.000000j), (3.000000+0.000000j), (4.000000+0.000000j), ..., (32763.000000+0.000000j), (32764.000000+0.000000j), (32765.000000+0.000000j), (32766.000000+0.000000j), (32767.000000+0.000000j) ]"
      ]
     },
     "execution_count": 97,
     "metadata": {},
     "output_type": "execute_result"
    }
   ],
   "source": [
    "message"
   ]
  },
  {
   "cell_type": "markdown",
   "id": "91c6d883",
   "metadata": {},
   "source": [
    "# create encryptor "
   ]
  },
  {
   "cell_type": "code",
   "execution_count": 100,
   "id": "aa5294dc",
   "metadata": {
    "scrolled": true
   },
   "outputs": [
    {
     "data": {
      "text/plain": [
       "<piheaan.Encryptor at 0x7ff0f6a6b8f0>"
      ]
     },
     "execution_count": 100,
     "metadata": {},
     "output_type": "execute_result"
    }
   ],
   "source": [
    "encryptor = heaan.Encryptor(context)\n",
    "encryptor"
   ]
  },
  {
   "cell_type": "markdown",
   "id": "54ef9705",
   "metadata": {},
   "source": [
    "# create cipher text"
   ]
  },
  {
   "cell_type": "code",
   "execution_count": 119,
   "id": "c23acf37",
   "metadata": {
    "scrolled": true
   },
   "outputs": [
    {
     "data": {
      "text/plain": [
       "(level: 24, log(num slots): 15, data: [ (0.000000+0.000000j), (0.000000+0.000000j), (0.000000+0.000000j), (0.000000+0.000000j), (0.000000+0.000000j), ..., (0.000000+0.000000j), (0.000000+0.000000j), (0.000000+0.000000j), (0.000000+0.000000j), (0.000000+0.000000j) ])"
      ]
     },
     "execution_count": 119,
     "metadata": {},
     "output_type": "execute_result"
    }
   ],
   "source": [
    "ciphertext = heaan.Ciphertext(context)\n",
    "ciphertext"
   ]
  },
  {
   "cell_type": "code",
   "execution_count": 105,
   "id": "7dd2d68d",
   "metadata": {
    "scrolled": true
   },
   "outputs": [
    {
     "data": {
      "text/plain": [
       "piheaan.Ciphertext"
      ]
     },
     "execution_count": 105,
     "metadata": {},
     "output_type": "execute_result"
    }
   ],
   "source": [
    "type(ciphertext)"
   ]
  },
  {
   "cell_type": "markdown",
   "id": "fdd65705",
   "metadata": {},
   "source": [
    "# 메세지 암호화 encrypt"
   ]
  },
  {
   "cell_type": "code",
   "execution_count": 116,
   "id": "9c209314",
   "metadata": {},
   "outputs": [],
   "source": [
    "encryptor.encrypt(message, public_key, ciphertext)"
   ]
  },
  {
   "cell_type": "code",
   "execution_count": 118,
   "id": "3675763a",
   "metadata": {},
   "outputs": [
    {
     "data": {
      "text/plain": [
       "[ (0.000000+0.000000j), (0.000000+0.000000j), (0.000000+0.000000j), (0.000000+0.000000j), (0.000000+0.000000j), ..., (0.000000+0.000000j), (0.000000+0.000000j), (0.000000+0.000000j), (0.000000+0.000000j), (0.000000+0.000000j) ]"
      ]
     },
     "execution_count": 118,
     "metadata": {},
     "output_type": "execute_result"
    }
   ],
   "source": [
    "message"
   ]
  },
  {
   "cell_type": "code",
   "execution_count": 117,
   "id": "ae4164e8",
   "metadata": {},
   "outputs": [
    {
     "data": {
      "text/plain": [
       "(level: 12, log(num slots): 15, data: [ (0.000000+0.000000j), (0.000000+0.000000j), (0.000000+0.000000j), (0.000000+0.000000j), (0.000000+0.000000j), ..., (0.000000+0.000000j), (0.000000+0.000000j), (0.000000+0.000000j), (0.000000+0.000000j), (0.000000+0.000000j) ])"
      ]
     },
     "execution_count": 117,
     "metadata": {},
     "output_type": "execute_result"
    }
   ],
   "source": [
    "ciphertext"
   ]
  },
  {
   "cell_type": "markdown",
   "id": "3ffe04cc",
   "metadata": {},
   "source": [
    "# create decryptor"
   ]
  },
  {
   "cell_type": "code",
   "execution_count": 106,
   "id": "7b183e95",
   "metadata": {},
   "outputs": [
    {
     "data": {
      "text/plain": [
       "<piheaan.Decryptor at 0x7ff0f72a0530>"
      ]
     },
     "execution_count": 106,
     "metadata": {},
     "output_type": "execute_result"
    }
   ],
   "source": [
    "decryptor = heaan.Decryptor(context)\n",
    "decryptor"
   ]
  },
  {
   "cell_type": "markdown",
   "id": "734f285d",
   "metadata": {},
   "source": [
    "# 평문을 복호화한 경우"
   ]
  },
  {
   "cell_type": "code",
   "execution_count": 107,
   "id": "3b900163",
   "metadata": {
    "scrolled": false
   },
   "outputs": [
    {
     "data": {
      "text/plain": [
       "(level: 24, log(num slots): 15, data: [ (0.000000+0.000000j), (0.000000+0.000000j), (0.000000+0.000000j), (0.000000+0.000000j), (0.000000+0.000000j), ..., (0.000000+0.000000j), (0.000000+0.000000j), (0.000000+0.000000j), (0.000000+0.000000j), (0.000000+0.000000j) ])"
      ]
     },
     "execution_count": 107,
     "metadata": {},
     "output_type": "execute_result"
    }
   ],
   "source": [
    "plaintext = heaan.Plaintext(context)\n",
    "plaintext"
   ]
  },
  {
   "cell_type": "code",
   "execution_count": 108,
   "id": "bbf9c596",
   "metadata": {},
   "outputs": [],
   "source": [
    "decryptor.decrypt(ciphertext, secret_key, plaintext)"
   ]
  },
  {
   "cell_type": "code",
   "execution_count": 109,
   "id": "0c65157f",
   "metadata": {
    "scrolled": false
   },
   "outputs": [
    {
     "data": {
      "text/plain": [
       "(level: 24, log(num slots): 15, data: [ (0.000000+0.000000j), (0.000000+0.000000j), (0.000000+0.000000j), (0.000000+0.000000j), (0.000000+0.000000j), ..., (0.000000+0.000000j), (0.000000+0.000000j), (0.000000+0.000000j), (0.000000+0.000000j), (0.000000+0.000000j) ])"
      ]
     },
     "execution_count": 109,
     "metadata": {},
     "output_type": "execute_result"
    }
   ],
   "source": [
    "plaintext"
   ]
  },
  {
   "cell_type": "markdown",
   "id": "c61e6cdc",
   "metadata": {},
   "source": [
    "# 메세지를 복호화한 경우"
   ]
  },
  {
   "cell_type": "code",
   "execution_count": 110,
   "id": "22521c41",
   "metadata": {},
   "outputs": [],
   "source": [
    "decryptor.decrypt(ciphertext, secret_key, message)"
   ]
  },
  {
   "cell_type": "code",
   "execution_count": 111,
   "id": "78cf9a54",
   "metadata": {},
   "outputs": [
    {
     "data": {
      "text/plain": [
       "[ (0.000000+0.000000j), (0.000000+0.000000j), (0.000000+0.000000j), (0.000000+0.000000j), (0.000000+0.000000j), ..., (0.000000+0.000000j), (0.000000+0.000000j), (0.000000+0.000000j), (0.000000+0.000000j), (0.000000+0.000000j) ]"
      ]
     },
     "execution_count": 111,
     "metadata": {},
     "output_type": "execute_result"
    }
   ],
   "source": [
    "message"
   ]
  },
  {
   "cell_type": "markdown",
   "id": "df3adcf2",
   "metadata": {},
   "source": [
    "# 인코더+디코더 생성"
   ]
  },
  {
   "cell_type": "code",
   "execution_count": 120,
   "id": "bbdcddbd",
   "metadata": {},
   "outputs": [
    {
     "data": {
      "text/plain": [
       "(level: 12, log(num slots): 15, data: [ (0.000000+0.000000j), (0.000000+0.000000j), (0.000000+0.000000j), (0.000000+0.000000j), (0.000000+0.000000j), ..., (0.000000+0.000000j), (0.000000+0.000000j), (0.000000+0.000000j), (0.000000+0.000000j), (0.000000+0.000000j) ])"
      ]
     },
     "execution_count": 120,
     "metadata": {},
     "output_type": "execute_result"
    }
   ],
   "source": [
    "endecoder = heaan.EnDecoder(context)\n",
    "ptxt = endecoder.encode(message)\n",
    "ptxt"
   ]
  },
  {
   "cell_type": "code",
   "execution_count": 121,
   "id": "9b384364",
   "metadata": {},
   "outputs": [
    {
     "data": {
      "text/plain": [
       "[ (0.000000+0.000000j), (0.000000+0.000000j), (0.000000+0.000000j), (0.000000+0.000000j), (0.000000+0.000000j), ..., (0.000000+0.000000j), (0.000000+0.000000j), (0.000000+0.000000j), (0.000000+0.000000j), (0.000000+0.000000j) ]"
      ]
     },
     "execution_count": 121,
     "metadata": {},
     "output_type": "execute_result"
    }
   ],
   "source": [
    "message_decode = endecoder.decode(ptxt)\n",
    "message_decode"
   ]
  },
  {
   "cell_type": "code",
   "execution_count": 123,
   "id": "a85740c0",
   "metadata": {},
   "outputs": [
    {
     "data": {
      "text/plain": [
       "array([0.2226138 , 0.02182574, 0.37117008, ..., 0.73932387, 0.92045283,\n",
       "       0.54795305])"
      ]
     },
     "execution_count": 123,
     "metadata": {},
     "output_type": "execute_result"
    }
   ],
   "source": [
    "import numpy as np \n",
    "data1 = np.random.uniform(size = num_slots)\n",
    "data1"
   ]
  },
  {
   "cell_type": "code",
   "execution_count": 124,
   "id": "5190579b",
   "metadata": {},
   "outputs": [
    {
     "data": {
      "text/plain": [
       "array([0.56653801, 0.32737293, 0.29152684, ..., 0.20431785, 0.36486782,\n",
       "       0.52899757])"
      ]
     },
     "execution_count": 124,
     "metadata": {},
     "output_type": "execute_result"
    }
   ],
   "source": [
    "data2 = np.random.uniform(size=num_slots)\n",
    "data2"
   ]
  },
  {
   "cell_type": "code",
   "execution_count": 129,
   "id": "34e85705",
   "metadata": {},
   "outputs": [
    {
     "data": {
      "text/plain": [
       "32768"
      ]
     },
     "execution_count": 129,
     "metadata": {},
     "output_type": "execute_result"
    }
   ],
   "source": [
    "len(data2)"
   ]
  },
  {
   "cell_type": "code",
   "execution_count": 126,
   "id": "c744e799",
   "metadata": {},
   "outputs": [
    {
     "data": {
      "text/plain": [
       "[ (0.000000+0.000000j), (0.000000+0.000000j), (0.000000+0.000000j), (0.000000+0.000000j), (0.000000+0.000000j), ..., (0.000000+0.000000j), (0.000000+0.000000j), (0.000000+0.000000j), (0.000000+0.000000j), (0.000000+0.000000j) ]"
      ]
     },
     "execution_count": 126,
     "metadata": {},
     "output_type": "execute_result"
    }
   ],
   "source": [
    "message1 = heaan.Message(log_slots)\n",
    "message1"
   ]
  },
  {
   "cell_type": "code",
   "execution_count": 127,
   "id": "c96f7ee0",
   "metadata": {},
   "outputs": [
    {
     "data": {
      "text/plain": [
       "15"
      ]
     },
     "execution_count": 127,
     "metadata": {},
     "output_type": "execute_result"
    }
   ],
   "source": [
    "log_slots"
   ]
  },
  {
   "cell_type": "code",
   "execution_count": 128,
   "id": "b800f89c",
   "metadata": {},
   "outputs": [
    {
     "data": {
      "text/plain": [
       "32768"
      ]
     },
     "execution_count": 128,
     "metadata": {},
     "output_type": "execute_result"
    }
   ],
   "source": [
    "num_slots"
   ]
  },
  {
   "cell_type": "code",
   "execution_count": 130,
   "id": "2a98380f",
   "metadata": {},
   "outputs": [
    {
     "data": {
      "text/plain": [
       "[ (0.000000+0.000000j), (0.000000+0.000000j), (0.000000+0.000000j), (0.000000+0.000000j), (0.000000+0.000000j), ..., (0.000000+0.000000j), (0.000000+0.000000j), (0.000000+0.000000j), (0.000000+0.000000j), (0.000000+0.000000j) ]"
      ]
     },
     "execution_count": 130,
     "metadata": {},
     "output_type": "execute_result"
    }
   ],
   "source": [
    "message2 = heaan.Message(log_slots)\n",
    "message2"
   ]
  },
  {
   "cell_type": "code",
   "execution_count": 131,
   "id": "82b38363",
   "metadata": {},
   "outputs": [],
   "source": [
    "for i in range(num_slots):\n",
    "    message1[i] = data1[i]\n",
    "    message2[i] = data2[i]"
   ]
  },
  {
   "cell_type": "code",
   "execution_count": 132,
   "id": "e9c46ef1",
   "metadata": {},
   "outputs": [
    {
     "data": {
      "text/plain": [
       "[ (0.222614+0.000000j), (0.021826+0.000000j), (0.371170+0.000000j), (0.884654+0.000000j), (0.452554+0.000000j), ..., (0.258198+0.000000j), (0.216032+0.000000j), (0.739324+0.000000j), (0.920453+0.000000j), (0.547953+0.000000j) ]"
      ]
     },
     "execution_count": 132,
     "metadata": {},
     "output_type": "execute_result"
    }
   ],
   "source": [
    "message1"
   ]
  },
  {
   "cell_type": "code",
   "execution_count": 133,
   "id": "3eb3bb22",
   "metadata": {},
   "outputs": [
    {
     "data": {
      "text/plain": [
       "[ (0.566538+0.000000j), (0.327373+0.000000j), (0.291527+0.000000j), (0.040160+0.000000j), (0.269352+0.000000j), ..., (0.678111+0.000000j), (0.482374+0.000000j), (0.204318+0.000000j), (0.364868+0.000000j), (0.528998+0.000000j) ]"
      ]
     },
     "execution_count": 133,
     "metadata": {},
     "output_type": "execute_result"
    }
   ],
   "source": [
    "message2"
   ]
  },
  {
   "cell_type": "code",
   "execution_count": 134,
   "id": "2d96d7f0",
   "metadata": {},
   "outputs": [
    {
     "data": {
      "text/plain": [
       "(level: 24, log(num slots): 15, data: [ (0.000000+0.000000j), (0.000000+0.000000j), (0.000000+0.000000j), (0.000000+0.000000j), (0.000000+0.000000j), ..., (0.000000+0.000000j), (0.000000+0.000000j), (0.000000+0.000000j), (0.000000+0.000000j), (0.000000+0.000000j) ])"
      ]
     },
     "execution_count": 134,
     "metadata": {},
     "output_type": "execute_result"
    }
   ],
   "source": [
    "encryptor = heaan.Encryptor(context)\n",
    "ciphertext1 = heaan.Ciphertext(context)\n",
    "ciphertext1"
   ]
  },
  {
   "cell_type": "code",
   "execution_count": 135,
   "id": "fb807a84",
   "metadata": {},
   "outputs": [
    {
     "data": {
      "text/plain": [
       "(level: 24, log(num slots): 15, data: [ (0.000000+0.000000j), (0.000000+0.000000j), (0.000000+0.000000j), (0.000000+0.000000j), (0.000000+0.000000j), ..., (0.000000+0.000000j), (0.000000+0.000000j), (0.000000+0.000000j), (0.000000+0.000000j), (0.000000+0.000000j) ])"
      ]
     },
     "execution_count": 135,
     "metadata": {},
     "output_type": "execute_result"
    }
   ],
   "source": [
    "ciphertext2 = heaan.Ciphertext(context)\n",
    "ciphertext2"
   ]
  },
  {
   "cell_type": "code",
   "execution_count": 136,
   "id": "5e23590f",
   "metadata": {},
   "outputs": [
    {
     "data": {
      "text/plain": [
       "False"
      ]
     },
     "execution_count": 136,
     "metadata": {},
     "output_type": "execute_result"
    }
   ],
   "source": [
    "ciphertext1 == ciphertext2"
   ]
  },
  {
   "cell_type": "code",
   "execution_count": 138,
   "id": "d4a0fe07",
   "metadata": {},
   "outputs": [],
   "source": [
    "encryptor.encrypt(message1, public_key, ciphertext1)\n",
    "encryptor.encrypt(message2, public_key, ciphertext2)"
   ]
  },
  {
   "cell_type": "code",
   "execution_count": 139,
   "id": "35943ea3",
   "metadata": {},
   "outputs": [
    {
     "name": "stdout",
     "output_type": "stream",
     "text": [
      "Help on class HomEvaluator in module piheaan:\n",
      "\n",
      "class HomEvaluator(pybind11_builtins.pybind11_object)\n",
      " |  Method resolution order:\n",
      " |      HomEvaluator\n",
      " |      pybind11_builtins.pybind11_object\n",
      " |      builtins.object\n",
      " |  \n",
      " |  Methods defined here:\n",
      " |  \n",
      " |  __init__(...)\n",
      " |      __init__(*args, **kwargs)\n",
      " |      Overloaded function.\n",
      " |      \n",
      " |      1. __init__(self: piheaan.HomEvaluator, context: piheaan.Context, key_dir_path: str) -> None\n",
      " |      \n",
      " |      construct a homevaluator from context and key_dir_path\n",
      " |      \n",
      " |      2. __init__(self: piheaan.HomEvaluator, context: piheaan.Context, pack: piheaan.KeyPack) -> None\n",
      " |      \n",
      " |      construct a homevaluator from context and keypack\n",
      " |  \n",
      " |  add(...)\n",
      " |      add(*args, **kwargs)\n",
      " |      Overloaded function.\n",
      " |      \n",
      " |      1. add(self: piheaan.HomEvaluator, op1: piheaan.Message, cnst: complex, res: piheaan.Message) -> None\n",
      " |      \n",
      " |      2. add(self: piheaan.HomEvaluator, op1: piheaan.Message, op2: piheaan.Message, res: piheaan.Message) -> None\n",
      " |      \n",
      " |      3. add(self: piheaan.HomEvaluator, op1: piheaan.Iphertext, op2: piheaan.Iphertext, res: piheaan.Iphertext) -> None\n",
      " |      \n",
      " |      4. add(self: piheaan.HomEvaluator, op1: piheaan.Ciphertext, cnst: complex, res: piheaan.Ciphertext) -> None\n",
      " |      \n",
      " |      5. add(self: piheaan.HomEvaluator, op1: piheaan.Ciphertext, op2: piheaan.Message, res: piheaan.Ciphertext) -> None\n",
      " |      \n",
      " |      6. add(self: piheaan.HomEvaluator, op1: piheaan.Ciphertext, op2: piheaan.Plaintext, res: piheaan.Ciphertext) -> None\n",
      " |      \n",
      " |      7. add(self: piheaan.HomEvaluator, op1: piheaan.Ciphertext, op2: piheaan.Ciphertext, res: piheaan.Ciphertext) -> None\n",
      " |  \n",
      " |  bootstrap(...)\n",
      " |      bootstrap(*args, **kwargs)\n",
      " |      Overloaded function.\n",
      " |      \n",
      " |      1. bootstrap(self: piheaan.HomEvaluator, op: piheaan.Ciphertext, res: piheaan.Ciphertext, is_complex: bool = False) -> None\n",
      " |      \n",
      " |      2. bootstrap(self: piheaan.HomEvaluator, op: piheaan.Ciphertext, res1: piheaan.Ciphertext, res2: piheaan.Ciphertext) -> None\n",
      " |      \n",
      " |      3. bootstrap(self: piheaan.HomEvaluator, op1: piheaan.Ciphertext, op2: piheaan.Ciphertext, res1: piheaan.Ciphertext, res2: piheaan.Ciphertext) -> None\n",
      " |  \n",
      " |  bootstrap_extended(...)\n",
      " |      bootstrap_extended(self: piheaan.HomEvaluator, op: piheaan.Ciphertext, res: piheaan.Ciphertext, is_complex: bool = False) -> None\n",
      " |  \n",
      " |  conjugate(...)\n",
      " |      conjugate(*args, **kwargs)\n",
      " |      Overloaded function.\n",
      " |      \n",
      " |      1. conjugate(self: piheaan.HomEvaluator, op: piheaan.Message, res: piheaan.Message) -> None\n",
      " |      \n",
      " |      2. conjugate(self: piheaan.HomEvaluator, op: piheaan.Ciphertext, res: piheaan.Ciphertext) -> None\n",
      " |  \n",
      " |  i_mult(...)\n",
      " |      i_mult(*args, **kwargs)\n",
      " |      Overloaded function.\n",
      " |      \n",
      " |      1. i_mult(self: piheaan.HomEvaluator, op: piheaan.Message, res: piheaan.Message) -> None\n",
      " |      \n",
      " |      2. i_mult(self: piheaan.HomEvaluator, op: piheaan.Ciphertext, res: piheaan.Ciphertext) -> None\n",
      " |  \n",
      " |  integer_mult(...)\n",
      " |      integer_mult(self: piheaan.HomEvaluator, op: piheaan.Ciphertext, cnst_integer: int, res: piheaan.Ciphertext) -> None\n",
      " |  \n",
      " |  kill_imag(...)\n",
      " |      kill_imag(self: piheaan.HomEvaluator, op: piheaan.Ciphertext, res: piheaan.Ciphertext) -> None\n",
      " |  \n",
      " |  left_rotate(...)\n",
      " |      left_rotate(*args, **kwargs)\n",
      " |      Overloaded function.\n",
      " |      \n",
      " |      1. left_rotate(self: piheaan.HomEvaluator, op: piheaan.Message, rot_idx: int, res: piheaan.Message) -> None\n",
      " |      \n",
      " |      2. left_rotate(self: piheaan.HomEvaluator, op: piheaan.Ciphertext, rot_idx: int, res: piheaan.Ciphertext) -> None\n",
      " |  \n",
      " |  left_rotate_reduce(...)\n",
      " |      left_rotate_reduce(*args, **kwargs)\n",
      " |      Overloaded function.\n",
      " |      \n",
      " |      1. left_rotate_reduce(self: piheaan.HomEvaluator, op: piheaan.Message, idx_interval: int, num_summation: int, ctxt_out: piheaan.Message) -> None\n",
      " |      \n",
      " |      2. left_rotate_reduce(self: piheaan.HomEvaluator, op: piheaan.Ciphertext, idx_interval: int, num_summation: int, ctxt_out: piheaan.Ciphertext) -> None\n",
      " |  \n",
      " |  level_down(...)\n",
      " |      level_down(self: piheaan.HomEvaluator, op: piheaan.Ciphertext, target_level: int, res: piheaan.Ciphertext) -> None\n",
      " |  \n",
      " |  level_down_one(...)\n",
      " |      level_down_one(self: piheaan.HomEvaluator, op: piheaan.Ciphertext, res: piheaan.Ciphertext) -> None\n",
      " |  \n",
      " |  mult(...)\n",
      " |      mult(*args, **kwargs)\n",
      " |      Overloaded function.\n",
      " |      \n",
      " |      1. mult(self: piheaan.HomEvaluator, op1: piheaan.Message, cnst: complex, res: piheaan.Message) -> None\n",
      " |      \n",
      " |      2. mult(self: piheaan.HomEvaluator, op1: piheaan.Message, op2: piheaan.Message, res: piheaan.Message) -> None\n",
      " |      \n",
      " |      3. mult(self: piheaan.HomEvaluator, op1: piheaan.Ciphertext, cnst: complex, res: piheaan.Ciphertext) -> None\n",
      " |      \n",
      " |      4. mult(self: piheaan.HomEvaluator, op1: piheaan.Ciphertext, op2: piheaan.Message, res: piheaan.Ciphertext) -> None\n",
      " |      \n",
      " |      5. mult(self: piheaan.HomEvaluator, op1: piheaan.Ciphertext, op2: piheaan.Plaintext, res: piheaan.Ciphertext) -> None\n",
      " |      \n",
      " |      6. mult(self: piheaan.HomEvaluator, op1: piheaan.Ciphertext, op2: piheaan.Ciphertext, res: piheaan.Ciphertext) -> None\n",
      " |  \n",
      " |  mult_without_rescale(...)\n",
      " |      mult_without_rescale(*args, **kwargs)\n",
      " |      Overloaded function.\n",
      " |      \n",
      " |      1. mult_without_rescale(self: piheaan.HomEvaluator, op1: piheaan.Ciphertext, cnst: complex, res: piheaan.Ciphertext) -> None\n",
      " |      \n",
      " |      2. mult_without_rescale(self: piheaan.HomEvaluator, op1: piheaan.Ciphertext, op2: piheaan.Plaintext, res: piheaan.Ciphertext) -> None\n",
      " |      \n",
      " |      3. mult_without_rescale(self: piheaan.HomEvaluator, op1: piheaan.Ciphertext, op2: piheaan.Ciphertext, res: piheaan.Ciphertext) -> None\n",
      " |  \n",
      " |  negate(...)\n",
      " |      negate(*args, **kwargs)\n",
      " |      Overloaded function.\n",
      " |      \n",
      " |      1. negate(self: piheaan.HomEvaluator, op: piheaan.Message, res: piheaan.Message) -> None\n",
      " |      \n",
      " |      2. negate(self: piheaan.HomEvaluator, op: piheaan.Iphertext, res: piheaan.Iphertext) -> None\n",
      " |      \n",
      " |      3. negate(self: piheaan.HomEvaluator, op: piheaan.Ciphertext, res: piheaan.Ciphertext) -> None\n",
      " |  \n",
      " |  relinearize(...)\n",
      " |      relinearize(self: piheaan.HomEvaluator, op: piheaan.Iphertext, res: piheaan.Ciphertext) -> None\n",
      " |  \n",
      " |  rescale(...)\n",
      " |      rescale(self: piheaan.HomEvaluator, op: piheaan.Ciphertext) -> None\n",
      " |  \n",
      " |  right_rotate(...)\n",
      " |      right_rotate(*args, **kwargs)\n",
      " |      Overloaded function.\n",
      " |      \n",
      " |      1. right_rotate(self: piheaan.HomEvaluator, op: piheaan.Message, rot_idx: int, res: piheaan.Message) -> None\n",
      " |      \n",
      " |      2. right_rotate(self: piheaan.HomEvaluator, op: piheaan.Ciphertext, rot_idx: int, res: piheaan.Ciphertext) -> None\n",
      " |  \n",
      " |  right_rotate_reduce(...)\n",
      " |      right_rotate_reduce(*args, **kwargs)\n",
      " |      Overloaded function.\n",
      " |      \n",
      " |      1. right_rotate_reduce(self: piheaan.HomEvaluator, op: piheaan.Message, idx_interval: int, num_summation: int, ctxt_out: piheaan.Message) -> None\n",
      " |      \n",
      " |      2. right_rotate_reduce(self: piheaan.HomEvaluator, op: piheaan.Ciphertext, idx_interval: int, num_summation: int, ctxt_out: piheaan.Ciphertext) -> None\n",
      " |  \n",
      " |  rot_sum(...)\n",
      " |      rot_sum(self: piheaan.HomEvaluator, op: List[piheaan.Ciphertext], rot_idx: List[int], res: piheaan.Ciphertext) -> None\n",
      " |  \n",
      " |  square(...)\n",
      " |      square(*args, **kwargs)\n",
      " |      Overloaded function.\n",
      " |      \n",
      " |      1. square(self: piheaan.HomEvaluator, op: piheaan.Message, res: piheaan.Message) -> None\n",
      " |      \n",
      " |      2. square(self: piheaan.HomEvaluator, op: piheaan.Ciphertext, res: piheaan.Ciphertext) -> None\n",
      " |  \n",
      " |  sub(...)\n",
      " |      sub(*args, **kwargs)\n",
      " |      Overloaded function.\n",
      " |      \n",
      " |      1. sub(self: piheaan.HomEvaluator, op1: piheaan.Message, cnst: complex, res: piheaan.Message) -> None\n",
      " |      \n",
      " |      2. sub(self: piheaan.HomEvaluator, op1: piheaan.Message, op2: piheaan.Message, res: piheaan.Message) -> None\n",
      " |      \n",
      " |      3. sub(self: piheaan.HomEvaluator, op1: piheaan.Iphertext, op2: piheaan.Iphertext, res: piheaan.Iphertext) -> None\n",
      " |      \n",
      " |      4. sub(self: piheaan.HomEvaluator, op1: piheaan.Ciphertext, cnst: complex, res: piheaan.Ciphertext) -> None\n",
      " |      \n",
      " |      5. sub(self: piheaan.HomEvaluator, op1: piheaan.Ciphertext, op2: piheaan.Message, res: piheaan.Ciphertext) -> None\n",
      " |      \n",
      " |      6. sub(self: piheaan.HomEvaluator, op1: piheaan.Ciphertext, op2: piheaan.Plaintext, res: piheaan.Ciphertext) -> None\n",
      " |      \n",
      " |      7. sub(self: piheaan.HomEvaluator, op1: piheaan.Ciphertext, op2: piheaan.Ciphertext, res: piheaan.Ciphertext) -> None\n",
      " |  \n",
      " |  tensor(...)\n",
      " |      tensor(self: piheaan.HomEvaluator, op1: piheaan.Ciphertext, op2: piheaan.Ciphertext, res: piheaan.Iphertext) -> None\n",
      " |  \n",
      " |  ----------------------------------------------------------------------\n",
      " |  Readonly properties defined here:\n",
      " |  \n",
      " |  min_level_for_bootstrap\n",
      " |  \n",
      " |  min_level_for_bootstrap_extended\n",
      " |  \n",
      " |  ----------------------------------------------------------------------\n",
      " |  Static methods inherited from pybind11_builtins.pybind11_object:\n",
      " |  \n",
      " |  __new__(*args, **kwargs) from pybind11_builtins.pybind11_type\n",
      " |      Create and return a new object.  See help(type) for accurate signature.\n",
      "\n"
     ]
    }
   ],
   "source": [
    "help(heaan.HomEvaluator)"
   ]
  },
  {
   "cell_type": "code",
   "execution_count": 140,
   "id": "4f8a74e9",
   "metadata": {},
   "outputs": [
    {
     "name": "stdout",
     "output_type": "stream",
     "text": [
      "Help on class Ciphertext in module piheaan:\n",
      "\n",
      "class Ciphertext(pybind11_builtins.pybind11_object)\n",
      " |  Method resolution order:\n",
      " |      Ciphertext\n",
      " |      pybind11_builtins.pybind11_object\n",
      " |      builtins.object\n",
      " |  \n",
      " |  Methods defined here:\n",
      " |  \n",
      " |  __init__(...)\n",
      " |      __init__(*args, **kwargs)\n",
      " |      Overloaded function.\n",
      " |      \n",
      " |      1. __init__(self: piheaan.Ciphertext, context: piheaan.Context) -> None\n",
      " |      \n",
      " |      construct a dummy ciphertext\n",
      " |      \n",
      " |      2. __init__(self: piheaan.Ciphertext, context: piheaan.Context, log_slots: int) -> None\n",
      " |      \n",
      " |      construct a dummy ciphertext based on given log_slots\n",
      " |      \n",
      " |      3. __init__(self: piheaan.Ciphertext, ctxt: piheaan.Ciphertext) -> None\n",
      " |      \n",
      " |      copying\n",
      " |  \n",
      " |  __len__(...)\n",
      " |      __len__(self: piheaan.Ciphertext) -> int\n",
      " |  \n",
      " |  __repr__(...)\n",
      " |      __repr__(self: piheaan.Ciphertext) -> str\n",
      " |  \n",
      " |  load(...)\n",
      " |      load(self: piheaan.Ciphertext, file_path: str) -> None\n",
      " |  \n",
      " |  save(...)\n",
      " |      save(self: piheaan.Ciphertext, file_path: str) -> None\n",
      " |  \n",
      " |  to_device(...)\n",
      " |      to_device(self: piheaan.Ciphertext) -> None\n",
      " |  \n",
      " |  to_host(...)\n",
      " |      to_host(self: piheaan.Ciphertext) -> None\n",
      " |  \n",
      " |  ----------------------------------------------------------------------\n",
      " |  Readonly properties defined here:\n",
      " |  \n",
      " |  current_prime\n",
      " |  \n",
      " |  current_scale_factor\n",
      " |  \n",
      " |  device_type\n",
      " |  \n",
      " |  level\n",
      " |  \n",
      " |  ----------------------------------------------------------------------\n",
      " |  Data descriptors defined here:\n",
      " |  \n",
      " |  log_slots\n",
      " |  \n",
      " |  rescale_counter\n",
      " |  \n",
      " |  ----------------------------------------------------------------------\n",
      " |  Static methods inherited from pybind11_builtins.pybind11_object:\n",
      " |  \n",
      " |  __new__(*args, **kwargs) from pybind11_builtins.pybind11_type\n",
      " |      Create and return a new object.  See help(type) for accurate signature.\n",
      "\n"
     ]
    }
   ],
   "source": [
    "help(heaan.Ciphertext)"
   ]
  },
  {
   "cell_type": "code",
   "execution_count": 141,
   "id": "8c86e425",
   "metadata": {},
   "outputs": [
    {
     "data": {
      "text/plain": [
       "<piheaan.HomEvaluator at 0x7ff0f7257eb0>"
      ]
     },
     "execution_count": 141,
     "metadata": {},
     "output_type": "execute_result"
    }
   ],
   "source": [
    "evaluator = heaan.HomEvaluator(context, public_key)\n",
    "evaluator"
   ]
  },
  {
   "cell_type": "code",
   "execution_count": 143,
   "id": "f6308a55",
   "metadata": {},
   "outputs": [],
   "source": [
    "ciphertext_out_add = heaan.Ciphertext(context)\n",
    "ciphertext_out_sub = heaan.Ciphertext(context)\n",
    "ciphertext_out_mult = heaan.Ciphertext(context)"
   ]
  },
  {
   "cell_type": "code",
   "execution_count": 144,
   "id": "12429031",
   "metadata": {},
   "outputs": [],
   "source": [
    "evaluator.add(ciphertext1, ciphertext2, ciphertext_out_add)\n",
    "evaluator.sub(ciphertext1, ciphertext2, ciphertext_out_sub)\n",
    "evaluator.mult(ciphertext1, ciphertext2, ciphertext_out_mult)"
   ]
  },
  {
   "cell_type": "code",
   "execution_count": 145,
   "id": "0f1488ec",
   "metadata": {},
   "outputs": [],
   "source": [
    "ciphertext_out_scalar_add = heaan.Ciphertext(context)\n",
    "ciphertext_out_scalar_mult = heaan.Ciphertext(context)"
   ]
  },
  {
   "cell_type": "code",
   "execution_count": 147,
   "id": "7da2764e",
   "metadata": {},
   "outputs": [],
   "source": [
    "a_scalar = 1/13\n",
    "evaluator.add(ciphertext1, a_scalar, ciphertext_out_scalar_add)"
   ]
  },
  {
   "cell_type": "code",
   "execution_count": 148,
   "id": "5b959490",
   "metadata": {},
   "outputs": [],
   "source": [
    "m_scalar = 1/17\n",
    "evaluator.mult(ciphertext1, m_scalar, ciphertext_out_scalar_mult)"
   ]
  },
  {
   "cell_type": "code",
   "execution_count": 149,
   "id": "d58261ce",
   "metadata": {},
   "outputs": [],
   "source": [
    "decryptor = heaan.Decryptor(context)"
   ]
  },
  {
   "cell_type": "code",
   "execution_count": null,
   "id": "2c8f8604",
   "metadata": {},
   "outputs": [],
   "source": []
  }
 ],
 "metadata": {
  "kernelspec": {
   "display_name": "Python 3 (ipykernel)",
   "language": "python",
   "name": "python3"
  },
  "language_info": {
   "codemirror_mode": {
    "name": "ipython",
    "version": 3
   },
   "file_extension": ".py",
   "mimetype": "text/x-python",
   "name": "python",
   "nbconvert_exporter": "python",
   "pygments_lexer": "ipython3",
   "version": "3.9.13"
  }
 },
 "nbformat": 4,
 "nbformat_minor": 5
}
