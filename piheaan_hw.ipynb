{
 "cells": [
  {
   "attachments": {},
   "cell_type": "markdown",
   "metadata": {},
   "source": [
    "# 파이혜안 실습_과제 - 홍성희"
   ]
  },
  {
   "attachments": {},
   "cell_type": "markdown",
   "metadata": {},
   "source": [
    "## 파이혜안 불러오기"
   ]
  },
  {
   "cell_type": "code",
   "execution_count": 1,
   "metadata": {},
   "outputs": [
    {
     "name": "stdout",
     "output_type": "stream",
     "text": [
      "Requirement already satisfied: pi-heaan in /Users/admin/opt/anaconda3/lib/python3.9/site-packages (3.4.1.3)\n",
      "Note: you may need to restart the kernel to use updated packages.\n"
     ]
    }
   ],
   "source": [
    "pip install pi-heaan"
   ]
  },
  {
   "cell_type": "code",
   "execution_count": 2,
   "metadata": {},
   "outputs": [],
   "source": [
    "import piheaan as heaan\n",
    "from piheaan.math import approx"
   ]
  },
  {
   "attachments": {},
   "cell_type": "markdown",
   "metadata": {},
   "source": [
    "## 파라미터 설정"
   ]
  },
  {
   "cell_type": "code",
   "execution_count": 3,
   "metadata": {},
   "outputs": [],
   "source": [
    "params = heaan.ParameterPreset.FGb\n",
    "context = heaan.make_context(params) # context: 만들어진 동형암호 체계에 필요한 키\n",
    "heaan.make_bootstrappable(context) # default는 bootstrap(재부팅)을 하지 않는 것. 근데 재부팅 가능하도록 설정."
   ]
  },
  {
   "attachments": {},
   "cell_type": "markdown",
   "metadata": {},
   "source": [
    "## 키(비밀키, 공개키) 생성"
   ]
  },
  {
   "cell_type": "code",
   "execution_count": 4,
   "metadata": {},
   "outputs": [],
   "source": [
    "key_dir_path = \"./key_new\"\n",
    "secret_key = heaan.SecretKey(context) # 파이혜안은 대충 이렇게 돌아간다~를 알려주기 위한 시뮬레이터라서 키를 실제로 생성하진 않는다\n",
    "secret_key.save(\"./secret_key.bin\")\n",
    "key_generator = heaan.KeyGenerator(context, secret_key)\n",
    "key_generator.gen_common_keys() # 공개키(암호화), 곱셈, 컨쥬게이션, 로테이션, ,,,\n",
    "key_generator.save(key_dir_path)\n",
    "public_key = key_generator.keypack"
   ]
  },
  {
   "cell_type": "code",
   "execution_count": 5,
   "metadata": {},
   "outputs": [
    {
     "data": {
      "text/plain": [
       "<piheaan.SecretKey at 0x7fdd78340fb0>"
      ]
     },
     "execution_count": 5,
     "metadata": {},
     "output_type": "execute_result"
    }
   ],
   "source": [
    "secret_key"
   ]
  },
  {
   "cell_type": "code",
   "execution_count": 6,
   "metadata": {},
   "outputs": [
    {
     "data": {
      "text/plain": [
       "<piheaan.KeyPack at 0x7fdd78340ef0>"
      ]
     },
     "execution_count": 6,
     "metadata": {},
     "output_type": "execute_result"
    }
   ],
   "source": [
    "public_key"
   ]
  },
  {
   "attachments": {},
   "cell_type": "markdown",
   "metadata": {},
   "source": [
    "## 메시지 준비"
   ]
  },
  {
   "cell_type": "code",
   "execution_count": 7,
   "metadata": {},
   "outputs": [],
   "source": [
    "log_slots = heaan.get_log_full_slots(context)\n",
    "num_slots = 2**log_slots"
   ]
  },
  {
   "cell_type": "code",
   "execution_count": 8,
   "metadata": {},
   "outputs": [
    {
     "data": {
      "text/plain": [
       "15"
      ]
     },
     "execution_count": 8,
     "metadata": {},
     "output_type": "execute_result"
    }
   ],
   "source": [
    "# log_slots size 확인\n",
    "log_slots"
   ]
  },
  {
   "attachments": {},
   "cell_type": "markdown",
   "metadata": {},
   "source": [
    "## Data 준비"
   ]
  },
  {
   "cell_type": "code",
   "execution_count": 9,
   "metadata": {},
   "outputs": [],
   "source": [
    "import numpy as np\n",
    "from sklearn.datasets import fetch_california_housing\n",
    "housing = fetch_california_housing()\n",
    "\n",
    "# original Data (X)\n",
    "x_org = housing.data[:2**14]\n",
    "# y True\n",
    "yt = housing.target[:2**14]\n",
    "# 분석에 사용할 X, MedInc\n",
    "x1 = x_org[:, housing.feature_names.index('MedInc')]\n",
    "# # y = w0*1 + w1*x 에서 (1, x)와 (w0, w1)의 내적으로 y를 구하는 형태를 활용하기 위해 (1,x)의 1 부분을 만든다\n",
    "x0 = np.ones(2**14)\n",
    "\n",
    "# w0, w1\n",
    "w0 = np.ones(2**14)\n",
    "w1 = np.ones(2**14)\n",
    "\n",
    "# x_data = x_data.reshape(-1,1)\n",
    "# x = np.insert(x_data, 0, 1.0, axis = 1)"
   ]
  },
  {
   "attachments": {},
   "cell_type": "markdown",
   "metadata": {},
   "source": [
    "## 메시지 준비"
   ]
  },
  {
   "cell_type": "code",
   "execution_count": 10,
   "metadata": {},
   "outputs": [],
   "source": [
    "# log_slots 만큼의 크기를 가진 Message class를 만들고 \n",
    "message_x0 = heaan.Message(log_slots)\n",
    "message_x1 = heaan.Message(log_slots)\n",
    "message_yt = heaan.Message(log_slots)\n",
    "message_w0 = heaan.Message(log_slots)\n",
    "message_w1 = heaan.Message(log_slots)\n",
    "\n",
    "# 암호화하고자 하는 값을 message에 집어 넣음\n",
    "for i in range(2**14):\n",
    "    message_x0[i] = x0[i]\n",
    "    message_x1[i] = x1[i]\n",
    "    message_yt[i] = yt[i]\n",
    "    message_w0[i] = w0[i]\n",
    "    message_w1[i] = w1[i]"
   ]
  },
  {
   "attachments": {},
   "cell_type": "markdown",
   "metadata": {},
   "source": [
    "## Encrypt / Decrypt"
   ]
  },
  {
   "cell_type": "code",
   "execution_count": 11,
   "metadata": {},
   "outputs": [],
   "source": [
    "# encryptor를 선언\n",
    "encryptor = heaan.Encryptor(context)\n",
    "\n",
    "# 빈 ciphertext를 만들고, encryptor를 이용해 message를 public_key로 encrypt한 걸 ciphertext에 저장\n",
    "ciphertext_x0 = heaan.Ciphertext(context)\n",
    "encryptor.encrypt(message_x0, public_key, ciphertext_x0)\n",
    "\n",
    "ciphertext_x1 = heaan.Ciphertext(context)\n",
    "encryptor.encrypt(message_x1, public_key, ciphertext_x1)\n",
    "\n",
    "ciphertext_yt = heaan.Ciphertext(context)\n",
    "encryptor.encrypt(message_yt, public_key, ciphertext_yt)\n",
    "\n",
    "ciphertext_w0 = heaan.Ciphertext(context)\n",
    "encryptor.encrypt(message_w0, public_key, ciphertext_w0)\n",
    "\n",
    "ciphertext_w1 = heaan.Ciphertext(context)\n",
    "encryptor.encrypt(message_w1, public_key, ciphertext_w1)\n",
    "\n",
    "# decryptor를 선언\n",
    "decryptor = heaan.Decryptor(context)"
   ]
  },
  {
   "attachments": {},
   "cell_type": "markdown",
   "metadata": {},
   "source": [
    "## Encode "
   ]
  },
  {
   "cell_type": "code",
   "execution_count": 12,
   "metadata": {},
   "outputs": [],
   "source": [
    "# endecoder 선언\n",
    "endecoder = heaan.EnDecoder(context)\n",
    "\n",
    "# encoding해서 plaintext 생성\n",
    "ptxt_x0 = endecoder.encode(message_x0)\n",
    "ptxt_x1 = endecoder.encode(message_x1)\n",
    "ptxt_yt = endecoder.encode(message_yt)\n",
    "ptxt_w0 = endecoder.encode(message_w0)\n",
    "ptxt_w1 = endecoder.encode(message_w1)"
   ]
  },
  {
   "attachments": {},
   "cell_type": "markdown",
   "metadata": {},
   "source": [
    "## Linear Regression"
   ]
  },
  {
   "cell_type": "code",
   "execution_count": 13,
   "metadata": {},
   "outputs": [],
   "source": [
    "# 변수 선언\n",
    "iters = 2000\n",
    "alpha = 0.01\n",
    "M = len(x1)\n",
    "\n",
    "# history 저장을 위해\n",
    "history = np.zeros((0,2))\n",
    "\n",
    "# 암호문 동형 연산 준비\n",
    "evaluator = heaan.HomEvaluator(context, public_key)"
   ]
  },
  {
   "cell_type": "code",
   "execution_count": 14,
   "metadata": {},
   "outputs": [],
   "source": [
    "def CheckBootstrap(ciphertextList:list):\n",
    "    for c in ciphertextList:\n",
    "        if c.level < 7:\n",
    "            # print(\"before bootstrap {c}: \", c.level)\n",
    "            evaluator.bootstrap(c, c, True)\n",
    "            # print(\"bootstrap {c} level: \", c.level)"
   ]
  },
  {
   "cell_type": "code",
   "execution_count": 15,
   "metadata": {},
   "outputs": [],
   "source": [
    "def GradientDescent(ciphertext_x:heaan.Ciphertext, ciphertext_yd:heaan.Ciphertext, ciphertext_w:heaan.Ciphertext, M:int, alpha:int):\n",
    "    '''\n",
    "    context, evaluator, log_slots는 미리 만들어져 있어야해요\n",
    "    '''\n",
    "    # x, yd의 element-wise 곱 xyd\n",
    "    ciphertext_xyd = heaan.Ciphertext(context)\n",
    "    evaluator.mult(ciphertext_x, ciphertext_yd, ciphertext_xyd)\n",
    "\n",
    "    # xyd의 element 합\n",
    "    for i in range(log_slots):\n",
    "        ciphertext_temp = heaan.Ciphertext(context)\n",
    "        evaluator.left_rotate(ciphertext_xyd, 2**i, ciphertext_temp)\n",
    "        evaluator.add(ciphertext_xyd, ciphertext_temp, ciphertext_xyd)\n",
    "\n",
    "    # g = xyd / M * alpha\n",
    "    ciphertext_g = heaan.Ciphertext(context)\n",
    "    evaluator.mult(ciphertext_xyd, 1/M, ciphertext_g)\n",
    "    evaluator.mult(ciphertext_g, alpha, ciphertext_g)\n",
    "\n",
    "    # w = w - g\n",
    "    evaluator.sub(ciphertext_w, ciphertext_g, ciphertext_w)\n",
    "\n",
    "    # bootstrap\n",
    "    CheckBootstrap([ciphertext_x, ciphertext_yd, ciphertext_w, ciphertext_xyd, ciphertext_temp, ciphertext_g])\n",
    "    \n",
    "    return ciphertext_w"
   ]
  },
  {
   "cell_type": "code",
   "execution_count": 16,
   "metadata": {},
   "outputs": [],
   "source": [
    "def GDHistory(ciphertext_yd:heaan.Ciphertext, history:np.ndarray, iter:int):\n",
    "    '''\n",
    "    decryptor, evaluator, secret_key가 있어야 작동해요\n",
    "    '''\n",
    "    # yd**2\n",
    "    ciphertext_loss = heaan.Ciphertext(context)\n",
    "    evaluator.mult(ciphertext_yd, ciphertext_yd, ciphertext_loss)\n",
    "\n",
    "    # yd**2의 summation\n",
    "    for i in range(log_slots):\n",
    "        ciphertext_temp = heaan.Ciphertext(context)\n",
    "        evaluator.left_rotate(ciphertext_loss, 2**i, ciphertext_temp)\n",
    "        evaluator.add(ciphertext_loss, ciphertext_temp, ciphertext_loss)\n",
    "    \n",
    "    ### bootstrap\n",
    "    CheckBootstrap([ciphertext_yd, ciphertext_loss, ciphertext_temp])\n",
    "    \n",
    "    # yd**2 summation의 1/2M\n",
    "    evaluator.mult(ciphertext_loss, 1/num_slots, ciphertext_loss)\n",
    "    evaluator.mult(ciphertext_loss, 1/2, ciphertext_loss)\n",
    "\n",
    "    # loss decrypt\n",
    "    message_loss_out = heaan.Message(log_slots)\n",
    "    decryptor.decrypt(ciphertext_loss, secret_key, message_loss_out)\n",
    "\n",
    "    # loss 저장\n",
    "    history = np.vstack((history, np.array([iter, message_loss_out[0]])))\n",
    "\n",
    "    print(\"iter:\", iter, \"loss:\", message_loss_out[0])\n",
    "\n",
    "    return history\n"
   ]
  },
  {
   "cell_type": "code",
   "execution_count": 17,
   "metadata": {},
   "outputs": [
    {
     "name": "stdout",
     "output_type": "stream",
     "text": [
      "iter: 0 loss: (2.415049488170238+0j)\n",
      "iter: 100 loss: (0.19301013858348706+0j)\n",
      "iter: 200 loss: (0.19788162525859912+0j)\n",
      "iter: 300 loss: (0.20325438671712995+0j)\n",
      "iter: 400 loss: (0.20862625793303527+0j)\n",
      "iter: 500 loss: (0.21371097957974303+0j)\n",
      "iter: 600 loss: (0.21836066461096265+0j)\n",
      "iter: 700 loss: (0.22251420945248834+0j)\n",
      "iter: 800 loss: (0.22616325015781305+0j)\n",
      "iter: 900 loss: (0.22932993830805762+0j)\n",
      "iter: 1000 loss: (0.23205264175233697+0j)\n",
      "iter: 1100 loss: (0.23437692666109133+0j)\n",
      "iter: 1200 loss: (0.23635003188887826+0j)\n",
      "iter: 1300 loss: (0.23801762930647308+0j)\n",
      "iter: 1400 loss: (0.2394220603347293+0j)\n",
      "iter: 1500 loss: (0.24060150822553564+0j)\n",
      "iter: 1600 loss: (0.2415897480211219+0j)\n",
      "iter: 1700 loss: (0.24241623921584501+0j)\n",
      "iter: 1800 loss: (0.24310640886362542+0j)\n",
      "iter: 1900 loss: (0.24368202816044224+0j)\n"
     ]
    }
   ],
   "source": [
    "for k in range(iters):\n",
    "    \n",
    "    # w1x1 = w1*x1\n",
    "    ciphertext_w1x1 = heaan.Ciphertext(context)\n",
    "    evaluator.mult(ciphertext_w1, ciphertext_x1, ciphertext_w1x1)\n",
    "\n",
    "    # yp = w0 + w1x\n",
    "    ciphertext_yp = heaan.Ciphertext(context)\n",
    "    evaluator.add(ciphertext_w0, ciphertext_w1x1, ciphertext_yp)\n",
    "    \n",
    "    # yd = yp-yt\n",
    "    ciphertext_yd = heaan.Ciphertext(context)\n",
    "    evaluator.sub(ciphertext_yp, ciphertext_yt, ciphertext_yd)\n",
    "\n",
    "    # bootstrap\n",
    "    CheckBootstrap([ciphertext_w1x1, ciphertext_w1, ciphertext_x1, ciphertext_yp, ciphertext_w0, ciphertext_yt, ciphertext_yd])\n",
    "\n",
    "    # Gradient Descent\n",
    "    ciphertext_w0 = GradientDescent(ciphertext_x0, ciphertext_yd, ciphertext_w0, M, alpha)\n",
    "    ciphertext_w1 = GradientDescent(ciphertext_x1, ciphertext_yd, ciphertext_w1, M, alpha)\n",
    "\n",
    "    # Decrypt하여 history 저장 및 출력\n",
    "    if k%100 == 0:\n",
    "        history = GDHistory(ciphertext_yd, history, k)"
   ]
  },
  {
   "attachments": {},
   "cell_type": "markdown",
   "metadata": {},
   "source": [
    "## Graph"
   ]
  },
  {
   "cell_type": "code",
   "execution_count": 29,
   "metadata": {},
   "outputs": [
    {
     "name": "stdout",
     "output_type": "stream",
     "text": [
      "[0.0, 100.0, 200.0, 300.0, 400.0, 500.0, 600.0, 700.0, 800.0, 900.0, 1000.0, 1100.0, 1200.0, 1300.0, 1400.0, 1500.0, 1600.0, 1700.0, 1800.0, 1900.0]\n",
      "[2.415049488170238, 0.19301013858348706, 0.19788162525859912, 0.20325438671712995, 0.20862625793303527, 0.21371097957974303, 0.21836066461096265, 0.22251420945248834, 0.22616325015781305, 0.22932993830805762, 0.23205264175233697, 0.23437692666109133, 0.23635003188887826, 0.23801762930647308, 0.2394220603347293, 0.24060150822553564, 0.2415897480211219, 0.24241623921584501, 0.24310640886362542, 0.24368202816044224]\n"
     ]
    }
   ],
   "source": [
    "history_f_iter = []\n",
    "history_f_loss = []\n",
    "\n",
    "for i in range(len(history.T[0])):\n",
    "    history_f_iter.append(history.T[0][i].real)\n",
    "    history_f_loss.append(history.T[1][i].real)\n",
    "    \n",
    "print(history_f_iter)\n",
    "print(history_f_loss)\n"
   ]
  },
  {
   "cell_type": "code",
   "execution_count": 30,
   "metadata": {},
   "outputs": [
    {
     "data": {
      "application/vnd.plotly.v1+json": {
       "config": {
        "plotlyServerURL": "https://plot.ly"
       },
       "data": [
        {
         "type": "scatter",
         "x": [
          0,
          100,
          200,
          300,
          400,
          500,
          600,
          700,
          800,
          900,
          1000,
          1100,
          1200,
          1300,
          1400,
          1500,
          1600,
          1700,
          1800,
          1900
         ],
         "y": [
          2.415049488170238,
          0.19301013858348706,
          0.19788162525859912,
          0.20325438671712995,
          0.20862625793303527,
          0.21371097957974303,
          0.21836066461096265,
          0.22251420945248834,
          0.22616325015781305,
          0.22932993830805762,
          0.23205264175233697,
          0.23437692666109133,
          0.23635003188887826,
          0.23801762930647308,
          0.2394220603347293,
          0.24060150822553564,
          0.2415897480211219,
          0.24241623921584501,
          0.24310640886362542,
          0.24368202816044224
         ]
        }
       ],
       "layout": {
        "template": {
         "data": {
          "bar": [
           {
            "error_x": {
             "color": "#2a3f5f"
            },
            "error_y": {
             "color": "#2a3f5f"
            },
            "marker": {
             "line": {
              "color": "#E5ECF6",
              "width": 0.5
             },
             "pattern": {
              "fillmode": "overlay",
              "size": 10,
              "solidity": 0.2
             }
            },
            "type": "bar"
           }
          ],
          "barpolar": [
           {
            "marker": {
             "line": {
              "color": "#E5ECF6",
              "width": 0.5
             },
             "pattern": {
              "fillmode": "overlay",
              "size": 10,
              "solidity": 0.2
             }
            },
            "type": "barpolar"
           }
          ],
          "carpet": [
           {
            "aaxis": {
             "endlinecolor": "#2a3f5f",
             "gridcolor": "white",
             "linecolor": "white",
             "minorgridcolor": "white",
             "startlinecolor": "#2a3f5f"
            },
            "baxis": {
             "endlinecolor": "#2a3f5f",
             "gridcolor": "white",
             "linecolor": "white",
             "minorgridcolor": "white",
             "startlinecolor": "#2a3f5f"
            },
            "type": "carpet"
           }
          ],
          "choropleth": [
           {
            "colorbar": {
             "outlinewidth": 0,
             "ticks": ""
            },
            "type": "choropleth"
           }
          ],
          "contour": [
           {
            "colorbar": {
             "outlinewidth": 0,
             "ticks": ""
            },
            "colorscale": [
             [
              0,
              "#0d0887"
             ],
             [
              0.1111111111111111,
              "#46039f"
             ],
             [
              0.2222222222222222,
              "#7201a8"
             ],
             [
              0.3333333333333333,
              "#9c179e"
             ],
             [
              0.4444444444444444,
              "#bd3786"
             ],
             [
              0.5555555555555556,
              "#d8576b"
             ],
             [
              0.6666666666666666,
              "#ed7953"
             ],
             [
              0.7777777777777778,
              "#fb9f3a"
             ],
             [
              0.8888888888888888,
              "#fdca26"
             ],
             [
              1,
              "#f0f921"
             ]
            ],
            "type": "contour"
           }
          ],
          "contourcarpet": [
           {
            "colorbar": {
             "outlinewidth": 0,
             "ticks": ""
            },
            "type": "contourcarpet"
           }
          ],
          "heatmap": [
           {
            "colorbar": {
             "outlinewidth": 0,
             "ticks": ""
            },
            "colorscale": [
             [
              0,
              "#0d0887"
             ],
             [
              0.1111111111111111,
              "#46039f"
             ],
             [
              0.2222222222222222,
              "#7201a8"
             ],
             [
              0.3333333333333333,
              "#9c179e"
             ],
             [
              0.4444444444444444,
              "#bd3786"
             ],
             [
              0.5555555555555556,
              "#d8576b"
             ],
             [
              0.6666666666666666,
              "#ed7953"
             ],
             [
              0.7777777777777778,
              "#fb9f3a"
             ],
             [
              0.8888888888888888,
              "#fdca26"
             ],
             [
              1,
              "#f0f921"
             ]
            ],
            "type": "heatmap"
           }
          ],
          "heatmapgl": [
           {
            "colorbar": {
             "outlinewidth": 0,
             "ticks": ""
            },
            "colorscale": [
             [
              0,
              "#0d0887"
             ],
             [
              0.1111111111111111,
              "#46039f"
             ],
             [
              0.2222222222222222,
              "#7201a8"
             ],
             [
              0.3333333333333333,
              "#9c179e"
             ],
             [
              0.4444444444444444,
              "#bd3786"
             ],
             [
              0.5555555555555556,
              "#d8576b"
             ],
             [
              0.6666666666666666,
              "#ed7953"
             ],
             [
              0.7777777777777778,
              "#fb9f3a"
             ],
             [
              0.8888888888888888,
              "#fdca26"
             ],
             [
              1,
              "#f0f921"
             ]
            ],
            "type": "heatmapgl"
           }
          ],
          "histogram": [
           {
            "marker": {
             "pattern": {
              "fillmode": "overlay",
              "size": 10,
              "solidity": 0.2
             }
            },
            "type": "histogram"
           }
          ],
          "histogram2d": [
           {
            "colorbar": {
             "outlinewidth": 0,
             "ticks": ""
            },
            "colorscale": [
             [
              0,
              "#0d0887"
             ],
             [
              0.1111111111111111,
              "#46039f"
             ],
             [
              0.2222222222222222,
              "#7201a8"
             ],
             [
              0.3333333333333333,
              "#9c179e"
             ],
             [
              0.4444444444444444,
              "#bd3786"
             ],
             [
              0.5555555555555556,
              "#d8576b"
             ],
             [
              0.6666666666666666,
              "#ed7953"
             ],
             [
              0.7777777777777778,
              "#fb9f3a"
             ],
             [
              0.8888888888888888,
              "#fdca26"
             ],
             [
              1,
              "#f0f921"
             ]
            ],
            "type": "histogram2d"
           }
          ],
          "histogram2dcontour": [
           {
            "colorbar": {
             "outlinewidth": 0,
             "ticks": ""
            },
            "colorscale": [
             [
              0,
              "#0d0887"
             ],
             [
              0.1111111111111111,
              "#46039f"
             ],
             [
              0.2222222222222222,
              "#7201a8"
             ],
             [
              0.3333333333333333,
              "#9c179e"
             ],
             [
              0.4444444444444444,
              "#bd3786"
             ],
             [
              0.5555555555555556,
              "#d8576b"
             ],
             [
              0.6666666666666666,
              "#ed7953"
             ],
             [
              0.7777777777777778,
              "#fb9f3a"
             ],
             [
              0.8888888888888888,
              "#fdca26"
             ],
             [
              1,
              "#f0f921"
             ]
            ],
            "type": "histogram2dcontour"
           }
          ],
          "mesh3d": [
           {
            "colorbar": {
             "outlinewidth": 0,
             "ticks": ""
            },
            "type": "mesh3d"
           }
          ],
          "parcoords": [
           {
            "line": {
             "colorbar": {
              "outlinewidth": 0,
              "ticks": ""
             }
            },
            "type": "parcoords"
           }
          ],
          "pie": [
           {
            "automargin": true,
            "type": "pie"
           }
          ],
          "scatter": [
           {
            "fillpattern": {
             "fillmode": "overlay",
             "size": 10,
             "solidity": 0.2
            },
            "type": "scatter"
           }
          ],
          "scatter3d": [
           {
            "line": {
             "colorbar": {
              "outlinewidth": 0,
              "ticks": ""
             }
            },
            "marker": {
             "colorbar": {
              "outlinewidth": 0,
              "ticks": ""
             }
            },
            "type": "scatter3d"
           }
          ],
          "scattercarpet": [
           {
            "marker": {
             "colorbar": {
              "outlinewidth": 0,
              "ticks": ""
             }
            },
            "type": "scattercarpet"
           }
          ],
          "scattergeo": [
           {
            "marker": {
             "colorbar": {
              "outlinewidth": 0,
              "ticks": ""
             }
            },
            "type": "scattergeo"
           }
          ],
          "scattergl": [
           {
            "marker": {
             "colorbar": {
              "outlinewidth": 0,
              "ticks": ""
             }
            },
            "type": "scattergl"
           }
          ],
          "scattermapbox": [
           {
            "marker": {
             "colorbar": {
              "outlinewidth": 0,
              "ticks": ""
             }
            },
            "type": "scattermapbox"
           }
          ],
          "scatterpolar": [
           {
            "marker": {
             "colorbar": {
              "outlinewidth": 0,
              "ticks": ""
             }
            },
            "type": "scatterpolar"
           }
          ],
          "scatterpolargl": [
           {
            "marker": {
             "colorbar": {
              "outlinewidth": 0,
              "ticks": ""
             }
            },
            "type": "scatterpolargl"
           }
          ],
          "scatterternary": [
           {
            "marker": {
             "colorbar": {
              "outlinewidth": 0,
              "ticks": ""
             }
            },
            "type": "scatterternary"
           }
          ],
          "surface": [
           {
            "colorbar": {
             "outlinewidth": 0,
             "ticks": ""
            },
            "colorscale": [
             [
              0,
              "#0d0887"
             ],
             [
              0.1111111111111111,
              "#46039f"
             ],
             [
              0.2222222222222222,
              "#7201a8"
             ],
             [
              0.3333333333333333,
              "#9c179e"
             ],
             [
              0.4444444444444444,
              "#bd3786"
             ],
             [
              0.5555555555555556,
              "#d8576b"
             ],
             [
              0.6666666666666666,
              "#ed7953"
             ],
             [
              0.7777777777777778,
              "#fb9f3a"
             ],
             [
              0.8888888888888888,
              "#fdca26"
             ],
             [
              1,
              "#f0f921"
             ]
            ],
            "type": "surface"
           }
          ],
          "table": [
           {
            "cells": {
             "fill": {
              "color": "#EBF0F8"
             },
             "line": {
              "color": "white"
             }
            },
            "header": {
             "fill": {
              "color": "#C8D4E3"
             },
             "line": {
              "color": "white"
             }
            },
            "type": "table"
           }
          ]
         },
         "layout": {
          "annotationdefaults": {
           "arrowcolor": "#2a3f5f",
           "arrowhead": 0,
           "arrowwidth": 1
          },
          "autotypenumbers": "strict",
          "coloraxis": {
           "colorbar": {
            "outlinewidth": 0,
            "ticks": ""
           }
          },
          "colorscale": {
           "diverging": [
            [
             0,
             "#8e0152"
            ],
            [
             0.1,
             "#c51b7d"
            ],
            [
             0.2,
             "#de77ae"
            ],
            [
             0.3,
             "#f1b6da"
            ],
            [
             0.4,
             "#fde0ef"
            ],
            [
             0.5,
             "#f7f7f7"
            ],
            [
             0.6,
             "#e6f5d0"
            ],
            [
             0.7,
             "#b8e186"
            ],
            [
             0.8,
             "#7fbc41"
            ],
            [
             0.9,
             "#4d9221"
            ],
            [
             1,
             "#276419"
            ]
           ],
           "sequential": [
            [
             0,
             "#0d0887"
            ],
            [
             0.1111111111111111,
             "#46039f"
            ],
            [
             0.2222222222222222,
             "#7201a8"
            ],
            [
             0.3333333333333333,
             "#9c179e"
            ],
            [
             0.4444444444444444,
             "#bd3786"
            ],
            [
             0.5555555555555556,
             "#d8576b"
            ],
            [
             0.6666666666666666,
             "#ed7953"
            ],
            [
             0.7777777777777778,
             "#fb9f3a"
            ],
            [
             0.8888888888888888,
             "#fdca26"
            ],
            [
             1,
             "#f0f921"
            ]
           ],
           "sequentialminus": [
            [
             0,
             "#0d0887"
            ],
            [
             0.1111111111111111,
             "#46039f"
            ],
            [
             0.2222222222222222,
             "#7201a8"
            ],
            [
             0.3333333333333333,
             "#9c179e"
            ],
            [
             0.4444444444444444,
             "#bd3786"
            ],
            [
             0.5555555555555556,
             "#d8576b"
            ],
            [
             0.6666666666666666,
             "#ed7953"
            ],
            [
             0.7777777777777778,
             "#fb9f3a"
            ],
            [
             0.8888888888888888,
             "#fdca26"
            ],
            [
             1,
             "#f0f921"
            ]
           ]
          },
          "colorway": [
           "#636efa",
           "#EF553B",
           "#00cc96",
           "#ab63fa",
           "#FFA15A",
           "#19d3f3",
           "#FF6692",
           "#B6E880",
           "#FF97FF",
           "#FECB52"
          ],
          "font": {
           "color": "#2a3f5f"
          },
          "geo": {
           "bgcolor": "white",
           "lakecolor": "white",
           "landcolor": "#E5ECF6",
           "showlakes": true,
           "showland": true,
           "subunitcolor": "white"
          },
          "hoverlabel": {
           "align": "left"
          },
          "hovermode": "closest",
          "mapbox": {
           "style": "light"
          },
          "paper_bgcolor": "white",
          "plot_bgcolor": "#E5ECF6",
          "polar": {
           "angularaxis": {
            "gridcolor": "white",
            "linecolor": "white",
            "ticks": ""
           },
           "bgcolor": "#E5ECF6",
           "radialaxis": {
            "gridcolor": "white",
            "linecolor": "white",
            "ticks": ""
           }
          },
          "scene": {
           "xaxis": {
            "backgroundcolor": "#E5ECF6",
            "gridcolor": "white",
            "gridwidth": 2,
            "linecolor": "white",
            "showbackground": true,
            "ticks": "",
            "zerolinecolor": "white"
           },
           "yaxis": {
            "backgroundcolor": "#E5ECF6",
            "gridcolor": "white",
            "gridwidth": 2,
            "linecolor": "white",
            "showbackground": true,
            "ticks": "",
            "zerolinecolor": "white"
           },
           "zaxis": {
            "backgroundcolor": "#E5ECF6",
            "gridcolor": "white",
            "gridwidth": 2,
            "linecolor": "white",
            "showbackground": true,
            "ticks": "",
            "zerolinecolor": "white"
           }
          },
          "shapedefaults": {
           "line": {
            "color": "#2a3f5f"
           }
          },
          "ternary": {
           "aaxis": {
            "gridcolor": "white",
            "linecolor": "white",
            "ticks": ""
           },
           "baxis": {
            "gridcolor": "white",
            "linecolor": "white",
            "ticks": ""
           },
           "bgcolor": "#E5ECF6",
           "caxis": {
            "gridcolor": "white",
            "linecolor": "white",
            "ticks": ""
           }
          },
          "title": {
           "x": 0.05
          },
          "xaxis": {
           "automargin": true,
           "gridcolor": "white",
           "linecolor": "white",
           "ticks": "",
           "title": {
            "standoff": 15
           },
           "zerolinecolor": "white",
           "zerolinewidth": 2
          },
          "yaxis": {
           "automargin": true,
           "gridcolor": "white",
           "linecolor": "white",
           "ticks": "",
           "title": {
            "standoff": 15
           },
           "zerolinecolor": "white",
           "zerolinewidth": 2
          }
         }
        }
       }
      }
     },
     "metadata": {},
     "output_type": "display_data"
    }
   ],
   "source": [
    "import plotly.graph_objects as go\n",
    "#그래프 생성\n",
    "fig = go.Figure()\n",
    "\n",
    "fig.add_trace(go.Scatter(\n",
    "    x=history_f_iter,\n",
    "    y=history_f_loss\n",
    "))\n",
    "\n",
    "fig.show()"
   ]
  },
  {
   "attachments": {},
   "cell_type": "markdown",
   "metadata": {},
   "source": [
    "### 연습"
   ]
  },
  {
   "cell_type": "code",
   "execution_count": 18,
   "metadata": {},
   "outputs": [
    {
     "name": "stdout",
     "output_type": "stream",
     "text": [
      "[ (0.000000+0.000000j), (2.000000+0.000000j), (4.000000+0.000000j), (6.000000+0.000000j), (8.000000+0.000000j), ..., (0.000000+0.000000j), (0.000000+0.000000j), (0.000000+0.000000j), (0.000000+0.000000j), (0.000000+0.000000j) ]\n"
     ]
    }
   ],
   "source": [
    "# 내적을 어떻게 계산하지? 궁금해서 해보는 테스트\n",
    "\n",
    "# 데이터 준비 \n",
    "test_1 = [i for i in range(2**14)] # [0,1,2,3,...]\n",
    "test_2 = [2 for i in range(2**14)] # [2,2,2,2,...]\n",
    "\n",
    "# 메시지 준비\n",
    "message_t1 = heaan.Message(log_slots)\n",
    "message_t2 = heaan.Message(log_slots)\n",
    "\n",
    "for i in range(2**14):\n",
    "    message_t1[i] = test_1[i]\n",
    "    message_t2[i] = test_2[i]\n",
    "\n",
    "# encryption\n",
    "ciphertext_t1 = heaan.Ciphertext(context)\n",
    "encryptor.encrypt(message_t1, public_key, ciphertext_t1)\n",
    "ciphertext_t2 = heaan.Ciphertext(context)\n",
    "encryptor.encrypt(message_t2, public_key, ciphertext_t2)\n",
    "\n",
    "# encoding\n",
    "ptxt_t1 = endecoder.encode(message_t1)\n",
    "ptxt_t2 = endecoder.encode(message_t2)\n",
    "\n",
    "# 결과 변수 선언\n",
    "ciphertext_t3 = heaan.Ciphertext(context)\n",
    "\n",
    "# evaluate\n",
    "evaluator.mult(ciphertext_t1, ciphertext_t2, ciphertext_t3)\n",
    "\n",
    "# decrypt\n",
    "decryptor = heaan.Decryptor(context)\n",
    "message_out_t3 = heaan.Message(log_slots)\n",
    "decryptor.decrypt(ciphertext_t3, secret_key, message_out_t3)\n",
    "\n",
    "print(message_out_t3)"
   ]
  },
  {
   "cell_type": "code",
   "execution_count": null,
   "metadata": {},
   "outputs": [
    {
     "data": {
      "text/plain": [
       "array([0., 0.])"
      ]
     },
     "execution_count": 40,
     "metadata": {},
     "output_type": "execute_result"
    }
   ],
   "source": [
    "w = np.ones(2)\n",
    "wtest = w-1\n",
    "wtest"
   ]
  },
  {
   "cell_type": "code",
   "execution_count": null,
   "metadata": {},
   "outputs": [
    {
     "data": {
      "text/plain": [
       "array([30, 70])"
      ]
     },
     "execution_count": 41,
     "metadata": {},
     "output_type": "execute_result"
    }
   ],
   "source": [
    "xttest = np.array([[1,1],[1,2],[1,3]])\n",
    "xttest.T\n",
    "yttest = np.array([5,10,15])\n",
    "xttest.T@yttest"
   ]
  },
  {
   "cell_type": "code",
   "execution_count": 22,
   "metadata": {},
   "outputs": [],
   "source": [
    "for i in range(20000):\n",
    "    evaluator.mult(ciphertext_t1, ciphertext_t2, ciphertext_t3)\n",
    "    \n",
    "    if ciphertext_t1.level < 7:\n",
    "        print(\"before bootstrap t1: \", ciphertext_t1.level)\n",
    "        evaluator.bootstrap(ciphertext_t1, ciphertext_t1, True)\n",
    "        print(\"bootstrap t1 level: \", ciphertext_t1.level)\n",
    "    if ciphertext_t2.level < 7:\n",
    "        print(\"before bootstrap t2: \", ciphertext_t2.level)\n",
    "        evaluator.bootstrap(ciphertext_t2, ciphertext_t2, True)\n",
    "        print(\"bootstrap t2 level: \", ciphertext_t2.level)\n",
    "    if ciphertext_t3.level < 7:\n",
    "        print(\"before bootstrap t3: \", ciphertext_t3.level)\n",
    "        evaluator.bootstrap(ciphertext_t3, ciphertext_t3, True)\n",
    "        print(\"bootstrap t3 level: \", ciphertext_t3.level)    "
   ]
  },
  {
   "cell_type": "code",
   "execution_count": null,
   "metadata": {},
   "outputs": [],
   "source": []
  }
 ],
 "metadata": {
  "kernelspec": {
   "display_name": "base",
   "language": "python",
   "name": "python3"
  },
  "language_info": {
   "codemirror_mode": {
    "name": "ipython",
    "version": 3
   },
   "file_extension": ".py",
   "mimetype": "text/x-python",
   "name": "python",
   "nbconvert_exporter": "python",
   "pygments_lexer": "ipython3",
   "version": "3.9.13"
  },
  "orig_nbformat": 4
 },
 "nbformat": 4,
 "nbformat_minor": 2
}
