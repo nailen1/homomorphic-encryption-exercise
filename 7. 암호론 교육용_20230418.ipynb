{
 "cells": [
  {
   "cell_type": "markdown",
   "id": "98a54fa3",
   "metadata": {},
   "source": [
    "# 파이혜안 불러오기"
   ]
  },
  {
   "cell_type": "code",
   "execution_count": 1,
   "id": "03cb55b1",
   "metadata": {},
   "outputs": [
    {
     "name": "stdout",
     "output_type": "stream",
     "text": [
      "Requirement already satisfied: pi-heaan in c:\\users\\imdarc\\anaconda3\\lib\\site-packages (3.4.1.3)\n",
      "Note: you may need to restart the kernel to use updated packages.\n"
     ]
    }
   ],
   "source": [
    "pip install pi-heaan"
   ]
  },
  {
   "cell_type": "code",
   "execution_count": 2,
   "id": "2528ac85",
   "metadata": {},
   "outputs": [],
   "source": [
    "import piheaan as heaan\n",
    "from piheaan.math import approx"
   ]
  },
  {
   "cell_type": "markdown",
   "id": "ebfba5b3",
   "metadata": {},
   "source": [
    "# 파라미터 설정"
   ]
  },
  {
   "cell_type": "code",
   "execution_count": 3,
   "id": "83b86368",
   "metadata": {},
   "outputs": [],
   "source": [
    "params = heaan.ParameterPreset.FGb     \n",
    "context = heaan.make_context(params)   # context: 만들어진 동형암호 체계에 필요한 키, 연산 등을 위한 도구\n",
    "heaan.make_bootstrappable(context)     # default는 bootstrap 을 하지 않는 것임. "
   ]
  },
  {
   "cell_type": "markdown",
   "id": "f7e09e9c",
   "metadata": {},
   "source": [
    "# 키(비밀키, 공개키) 생성"
   ]
  },
  {
   "cell_type": "code",
   "execution_count": 4,
   "id": "186c13f4",
   "metadata": {},
   "outputs": [],
   "source": [
    "key_dir_path=\"./key_new\"\n",
    "secret_key = heaan.SecretKey(context)\n",
    "secret_key.save(\"./secret_key.bin\")\n",
    "key_generator = heaan.KeyGenerator(context, secret_key)\n",
    "key_generator.gen_common_keys()      # 공개키(암호화), 곱셈, 컨쥬게이션, 로테이션, 부트스트랩키\n",
    "key_generator.save(key_dir_path)\n",
    "public_key = key_generator.keypack"
   ]
  },
  {
   "cell_type": "code",
   "execution_count": 5,
   "id": "9b37107e",
   "metadata": {},
   "outputs": [
    {
     "data": {
      "text/plain": [
       "<piheaan.SecretKey at 0x282dde2df70>"
      ]
     },
     "execution_count": 5,
     "metadata": {},
     "output_type": "execute_result"
    }
   ],
   "source": [
    "secret_key"
   ]
  },
  {
   "cell_type": "code",
   "execution_count": 6,
   "id": "022a1e20",
   "metadata": {},
   "outputs": [
    {
     "data": {
      "text/plain": [
       "<piheaan.KeyPack at 0x282e227db30>"
      ]
     },
     "execution_count": 6,
     "metadata": {},
     "output_type": "execute_result"
    }
   ],
   "source": [
    "public_key"
   ]
  },
  {
   "cell_type": "markdown",
   "id": "304dca17",
   "metadata": {},
   "source": [
    "# 메시지 준비"
   ]
  },
  {
   "cell_type": "code",
   "execution_count": 36,
   "id": "fdf98df0",
   "metadata": {},
   "outputs": [
    {
     "name": "stdout",
     "output_type": "stream",
     "text": [
      "message : [ (0.000000+0.000000j), (1.000000+0.000000j), (2.000000+0.000000j), (3.000000+0.000000j), (4.000000+0.000000j), ..., (32763.000000+0.000000j), (32764.000000+0.000000j), (32765.000000+0.000000j), (32766.000000+0.000000j), (32767.000000+0.000000j) ]\n"
     ]
    }
   ],
   "source": [
    "log_slots= heaan.get_log_full_slots(context)\n",
    "num_slots = 2**log_slots                            # 2**5 = 32\n",
    "\n",
    "data = [i for i in range(num_slots)]\n",
    "\n",
    "message = heaan.Message(log_slots)\n",
    "\n",
    "for i in range(num_slots):\n",
    "    message[i] = data[i]\n",
    "\n",
    "#print('data:', data)\n",
    "#print()\n",
    "print('message :', message)"
   ]
  },
  {
   "cell_type": "markdown",
   "id": "f9dc54ba",
   "metadata": {},
   "source": [
    "# 암호화"
   ]
  },
  {
   "cell_type": "code",
   "execution_count": 8,
   "id": "acf5a756",
   "metadata": {},
   "outputs": [
    {
     "data": {
      "text/plain": [
       "(level: 12, log(num slots): 15, data: [ (0.000000+0.000000j), (1.000000+0.000000j), (2.000000+0.000000j), (3.000000+0.000000j), (4.000000+0.000000j), ..., (32763.000000+0.000000j), (32764.000000+0.000000j), (32765.000000+0.000000j), (32766.000000+0.000000j), (32767.000000+0.000000j) ])"
      ]
     },
     "execution_count": 8,
     "metadata": {},
     "output_type": "execute_result"
    }
   ],
   "source": [
    "encryptor = heaan.Encryptor(context)\n",
    "ciphertext = heaan.Ciphertext(context)\n",
    "encryptor.encrypt(message, public_key, ciphertext)\n",
    "ciphertext"
   ]
  },
  {
   "cell_type": "markdown",
   "id": "64d5bc98",
   "metadata": {},
   "source": [
    "# 복호화"
   ]
  },
  {
   "cell_type": "code",
   "execution_count": 9,
   "id": "289a3b29",
   "metadata": {},
   "outputs": [
    {
     "name": "stdout",
     "output_type": "stream",
     "text": [
      "[ (0.000000+0.000000j), (1.000000+0.000000j), (2.000000+0.000000j), (3.000000+0.000000j), (4.000000+0.000000j), ..., (32763.000000+0.000000j), (32764.000000+0.000000j), (32765.000000+0.000000j), (32766.000000+0.000000j), (32767.000000+0.000000j) ]\n"
     ]
    }
   ],
   "source": [
    "decryptor = heaan.Decryptor(context)\n",
    "#plaintext = heaan.Plaintext(context)\n",
    "#decryptor.decrypt(ciphertext, secret_key,plaintext)\n",
    "decryptor.decrypt(ciphertext, secret_key, message)\n",
    "print(message)"
   ]
  },
  {
   "cell_type": "markdown",
   "id": "a532bf85",
   "metadata": {},
   "source": [
    "# Encode"
   ]
  },
  {
   "cell_type": "code",
   "execution_count": 10,
   "id": "d0c990c0",
   "metadata": {},
   "outputs": [
    {
     "data": {
      "text/plain": [
       "(level: 12, log(num slots): 15, data: [ (0.000000+0.000000j), (1.000000+0.000000j), (2.000000+0.000000j), (3.000000+0.000000j), (4.000000+0.000000j), ..., (32763.000000+0.000000j), (32764.000000+0.000000j), (32765.000000+0.000000j), (32766.000000+0.000000j), (32767.000000+0.000000j) ])"
      ]
     },
     "execution_count": 10,
     "metadata": {},
     "output_type": "execute_result"
    }
   ],
   "source": [
    "# 1. encode(self: piheaan.EnDecoder, msg: piheaan.Message, level: int) -> piheaan.Plaintext\n",
    "# 2. encode(self: piheaan.EnDecoder, msg: piheaan.Message) -> piheaan.Plaintext\n",
    "\n",
    "endecoder = heaan.EnDecoder(context)\n",
    "ptxt = endecoder.encode(message)\n",
    "ptxt\n",
    "\n",
    "#encryptor.encrypt(ptxt,public_key, ciphertext)\n",
    "#ciphertext"
   ]
  },
  {
   "cell_type": "markdown",
   "id": "91cdb406",
   "metadata": {},
   "source": [
    "# Decode"
   ]
  },
  {
   "cell_type": "code",
   "execution_count": 11,
   "id": "2ab222c0",
   "metadata": {},
   "outputs": [
    {
     "name": "stdout",
     "output_type": "stream",
     "text": [
      "디코딩된 데이터 : [ (0.000000+0.000000j), (1.000000+0.000000j), (2.000000+0.000000j), (3.000000+0.000000j), (4.000000+0.000000j), ..., (32763.000000+0.000000j), (32764.000000+0.000000j), (32765.000000+0.000000j), (32766.000000+0.000000j), (32767.000000+0.000000j) ]\n"
     ]
    }
   ],
   "source": [
    "# decode(self: piheaan.EnDecoder, ptxt: piheaan.Plaintext) -> piheaan.Message\n",
    "message_decode = endecoder.decode(ptxt)\n",
    "\n",
    "\n",
    "print('디코딩된 데이터 :', message_decode)"
   ]
  },
  {
   "cell_type": "markdown",
   "id": "68ac5954",
   "metadata": {},
   "source": [
    "# 덧셈, 뺄셈, 곱셈"
   ]
  },
  {
   "cell_type": "markdown",
   "id": "6c034900",
   "metadata": {},
   "source": [
    "메시지 준비"
   ]
  },
  {
   "cell_type": "code",
   "execution_count": 12,
   "id": "9c6341f1",
   "metadata": {},
   "outputs": [
    {
     "name": "stdout",
     "output_type": "stream",
     "text": [
      "Requirement already satisfied: numpy in c:\\users\\imdarc\\anaconda3\\lib\\site-packages (1.23.5)\n",
      "Note: you may need to restart the kernel to use updated packages.\n"
     ]
    }
   ],
   "source": [
    "pip install numpy"
   ]
  },
  {
   "cell_type": "code",
   "execution_count": 13,
   "id": "03f574ad",
   "metadata": {},
   "outputs": [],
   "source": [
    "import numpy as np\n",
    "\n",
    "#log_slots = 7\n",
    "#num_slots = 2 ** log_slots  \n",
    "# num_slots = 2**7 = 128\n",
    "\n",
    "data1 = np.random.uniform(size = num_slots)\n",
    "data2 = np.random.uniform(size = num_slots)"
   ]
  },
  {
   "cell_type": "code",
   "execution_count": 14,
   "id": "a6e8c896",
   "metadata": {},
   "outputs": [
    {
     "name": "stdout",
     "output_type": "stream",
     "text": [
      "[0.52198405 0.84967617 0.58006623 ... 0.66827819 0.15035272 0.68006942]\n"
     ]
    }
   ],
   "source": [
    "print(data1)"
   ]
  },
  {
   "cell_type": "code",
   "execution_count": 15,
   "id": "32467954",
   "metadata": {},
   "outputs": [
    {
     "name": "stdout",
     "output_type": "stream",
     "text": [
      "[0.97551361 0.57561586 0.62304931 ... 0.50258114 0.15597328 0.43202751]\n"
     ]
    }
   ],
   "source": [
    "print(data2)"
   ]
  },
  {
   "cell_type": "code",
   "execution_count": 16,
   "id": "b8d85a4d",
   "metadata": {},
   "outputs": [
    {
     "name": "stdout",
     "output_type": "stream",
     "text": [
      "message_1 : [ (0.521984+0.000000j), (0.849676+0.000000j), (0.580066+0.000000j), (0.928357+0.000000j), (0.195359+0.000000j), ..., (0.029470+0.000000j), (0.566620+0.000000j), (0.668278+0.000000j), (0.150353+0.000000j), (0.680069+0.000000j) ]\n",
      "\n",
      "message_2 :  [ (0.975514+0.000000j), (0.575616+0.000000j), (0.623049+0.000000j), (0.766347+0.000000j), (0.574188+0.000000j), ..., (0.639598+0.000000j), (0.839760+0.000000j), (0.502581+0.000000j), (0.155973+0.000000j), (0.432028+0.000000j) ]\n"
     ]
    }
   ],
   "source": [
    "message_1 = heaan.Message(log_slots)\n",
    "message_2 = heaan.Message(log_slots)\n",
    "for i in range(num_slots):\n",
    "    message_1[i]=data1[i]\n",
    "    message_2[i]=data2[i]\n",
    "\n",
    "print('message_1 :', message_1)\n",
    "print()\n",
    "print('message_2 : ', message_2)"
   ]
  },
  {
   "cell_type": "markdown",
   "id": "dfb21664",
   "metadata": {},
   "source": [
    "동일한 공개키로 암호화"
   ]
  },
  {
   "cell_type": "code",
   "execution_count": 17,
   "id": "e45179f4",
   "metadata": {},
   "outputs": [],
   "source": [
    "encryptor = heaan.Encryptor(context)\n",
    "ciphertext_1 = heaan.Ciphertext(context)\n",
    "ciphertext_2 = heaan.Ciphertext(context)\n",
    "encryptor.encrypt(message_1, public_key, ciphertext_1)\n",
    "encryptor.encrypt(message_2, public_key, ciphertext_2)\n",
    "#print(ciphertext_1)"
   ]
  },
  {
   "cell_type": "markdown",
   "id": "0ba3491f",
   "metadata": {},
   "source": [
    "암호문 동형연산(덧셈/스칼라 덧셈, 뺄셈, 곱셈/스칼라 곱셈/리스케일 없는 곱셈)"
   ]
  },
  {
   "cell_type": "code",
   "execution_count": 18,
   "id": "ad83abff",
   "metadata": {},
   "outputs": [],
   "source": [
    "#help(heaan.HomEvaluator)\n",
    "#help(heaan.Ciphertext)"
   ]
  },
  {
   "cell_type": "code",
   "execution_count": 19,
   "id": "a8b56f31",
   "metadata": {},
   "outputs": [],
   "source": [
    "evaluator = heaan.HomEvaluator(context, public_key)\n",
    "ciphertext_out_add = heaan.Ciphertext(context)\n",
    "ciphertext_out_sub = heaan.Ciphertext(context)\n",
    "ciphertext_out_mult = heaan.Ciphertext(context)\n",
    "\n",
    "evaluator.add(ciphertext_1, ciphertext_2, ciphertext_out_add)\n",
    "evaluator.sub(ciphertext_1, ciphertext_2, ciphertext_out_sub)\n",
    "evaluator.mult(ciphertext_1, ciphertext_2, ciphertext_out_mult)\n",
    "\n",
    "ciphertext_out_scalar_add = heaan.Ciphertext(context)\n",
    "ciphertext_out_scalar_mult = heaan.Ciphertext(context)\n",
    "\n",
    "add_scalar = 1/13\n",
    "evaluator.add(ciphertext_1, add_scalar, ciphertext_out_scalar_add)\n",
    "\n",
    "mult_scalar = 1/17\n",
    "evaluator.mult(ciphertext_1, mult_scalar, ciphertext_out_scalar_mult)"
   ]
  },
  {
   "cell_type": "markdown",
   "id": "f5fac491",
   "metadata": {},
   "source": [
    "동형연산 결과 복호화"
   ]
  },
  {
   "cell_type": "code",
   "execution_count": 20,
   "id": "d5b853e8",
   "metadata": {},
   "outputs": [],
   "source": [
    "decryptor = heaan.Decryptor(context)\n",
    "message_out_add = heaan.Message(log_slots)\n",
    "message_out_sub = heaan.Message(log_slots)\n",
    "message_out_mult = heaan.Message(log_slots)\n",
    "\n",
    "message_out_scalar_add = heaan.Message(log_slots)\n",
    "message_out_scalar_mult = heaan.Message(log_slots)\n",
    "\n",
    "decryptor.decrypt(ciphertext_out_add, secret_key, message_out_add)\n",
    "decryptor.decrypt(ciphertext_out_sub, secret_key, message_out_sub)\n",
    "decryptor.decrypt(ciphertext_out_mult, secret_key, message_out_mult)\n",
    "\n",
    "decryptor.decrypt(ciphertext_out_scalar_add, secret_key, message_out_scalar_add) \n",
    "decryptor.decrypt(ciphertext_out_scalar_mult, secret_key, message_out_scalar_mult)              "
   ]
  },
  {
   "cell_type": "code",
   "execution_count": 21,
   "id": "caba94c6",
   "metadata": {},
   "outputs": [
    {
     "name": "stdout",
     "output_type": "stream",
     "text": [
      "[ (1.497498+0.000000j), (1.425292+0.000000j), (1.203116+0.000000j), (1.694704+0.000000j), (0.769547+0.000000j), ..., (0.669069+0.000000j), (1.406380+0.000000j), (1.170859+0.000000j), (0.306326+0.000000j), (1.112097+0.000000j) ]\n"
     ]
    }
   ],
   "source": [
    "print(message_out_add)"
   ]
  },
  {
   "cell_type": "code",
   "execution_count": 22,
   "id": "c7561990",
   "metadata": {},
   "outputs": [
    {
     "name": "stdout",
     "output_type": "stream",
     "text": [
      "[ (-0.453530+0.000000j), (0.274060+0.000000j), (-0.042983+0.000000j), (0.162010+0.000000j), (-0.378829+0.000000j), ..., (-0.610128+0.000000j), (-0.273140+0.000000j), (0.165697+0.000000j), (-0.005621+0.000000j), (0.248042+0.000000j) ]\n"
     ]
    }
   ],
   "source": [
    "print(message_out_sub)"
   ]
  },
  {
   "cell_type": "code",
   "execution_count": 23,
   "id": "749a63a8",
   "metadata": {},
   "outputs": [
    {
     "name": "stdout",
     "output_type": "stream",
     "text": [
      "[ (0.509203+0.000000j), (0.489087+0.000000j), (0.361410+0.000000j), (0.711444+0.000000j), (0.112173+0.000000j), ..., (0.018849+0.000000j), (0.475825+0.000000j), (0.335864+0.000000j), (0.023451+0.000000j), (0.293809+0.000000j) ]\n"
     ]
    }
   ],
   "source": [
    "print(message_out_mult)"
   ]
  },
  {
   "cell_type": "code",
   "execution_count": 24,
   "id": "9f905cc2",
   "metadata": {},
   "outputs": [
    {
     "name": "stdout",
     "output_type": "stream",
     "text": [
      "[ (0.598907+0.000000j), (0.926599+0.000000j), (0.656989+0.000000j), (1.005280+0.000000j), (0.272282+0.000000j), ..., (0.106393+0.000000j), (0.643543+0.000000j), (0.745201+0.000000j), (0.227276+0.000000j), (0.756992+0.000000j) ]\n"
     ]
    }
   ],
   "source": [
    "print(message_out_scalar_add)"
   ]
  },
  {
   "cell_type": "code",
   "execution_count": 25,
   "id": "6b5d5d95",
   "metadata": {},
   "outputs": [
    {
     "name": "stdout",
     "output_type": "stream",
     "text": [
      "[ (0.030705+0.000000j), (0.049981+0.000000j), (0.034122+0.000000j), (0.054609+0.000000j), (0.011492+0.000000j), ..., (0.001734+0.000000j), (0.033331+0.000000j), (0.039310+0.000000j), (0.008844+0.000000j), (0.040004+0.000000j) ]\n"
     ]
    }
   ],
   "source": [
    "print(message_out_scalar_mult)"
   ]
  },
  {
   "cell_type": "markdown",
   "id": "07a7f59f",
   "metadata": {},
   "source": [
    "# Application\n",
    "\n",
    "polynomial\n",
    "\n",
    "$3x^3-2x^2+x-1$"
   ]
  },
  {
   "cell_type": "code",
   "execution_count": 26,
   "id": "944671b6",
   "metadata": {},
   "outputs": [
    {
     "name": "stdout",
     "output_type": "stream",
     "text": [
      "                     0\n",
      "0                   -1\n",
      "1                    1\n",
      "2                   17\n",
      "3                   65\n",
      "4                  163\n",
      "...                ...\n",
      "32763  105502658461265\n",
      "32764  105512319352603\n",
      "32765  105521980833689\n",
      "32766  105531642904541\n",
      "32767  105541305565177\n",
      "\n",
      "[32768 rows x 1 columns]\n"
     ]
    }
   ],
   "source": [
    "import pandas as pd\n",
    "\n",
    "df = pd.DataFrame(data)\n",
    "df_cal=3*(df**3)-2*(df**2)+df-1\n",
    "print(df_cal)"
   ]
  },
  {
   "cell_type": "code",
   "execution_count": 27,
   "id": "60916d84",
   "metadata": {},
   "outputs": [],
   "source": [
    "#help(pd.DataFrame)"
   ]
  },
  {
   "cell_type": "code",
   "execution_count": 28,
   "id": "869dc6e9",
   "metadata": {},
   "outputs": [
    {
     "name": "stdout",
     "output_type": "stream",
     "text": [
      "[ (0.000000+0.000000j), (1.000000+0.000000j), (2.000000+0.000000j), (3.000000+0.000000j), (4.000000+0.000000j), ..., (32763.000000+0.000000j), (32764.000000+0.000000j), (32765.000000+0.000000j), (32766.000000+0.000000j), (32767.000000+0.000000j) ]\n"
     ]
    }
   ],
   "source": [
    "message_3 = heaan.Message(log_slots)\n",
    "for i in range(num_slots):\n",
    "    message_3[i] = data[i]\n",
    "\n",
    "print(message_3)"
   ]
  },
  {
   "cell_type": "code",
   "execution_count": 29,
   "id": "d0100595",
   "metadata": {},
   "outputs": [],
   "source": [
    "ciphertext_3 = heaan.Ciphertext(context) \n",
    "encryptor.encrypt(message_3, public_key, ciphertext_3) # x\n",
    "\n",
    "ciphertext_tmp_2 = heaan.Ciphertext(context)\n",
    "ciphertext_tmp_22 = heaan.Ciphertext(context)\n",
    "ciphertext_tmp_3 = heaan.Ciphertext(context)\n",
    "ciphertext_tmp_33 = heaan.Ciphertext(context)"
   ]
  },
  {
   "cell_type": "code",
   "execution_count": 30,
   "id": "cea3f361",
   "metadata": {},
   "outputs": [
    {
     "name": "stdout",
     "output_type": "stream",
     "text": [
      "[ (-1.000000+0.000000j), (1.000000+0.000000j), (17.000000+0.000000j), (65.000000+0.000000j), (163.000000+0.000000j), ..., (105502658461265.000000+0.000000j), (105512319352603.000000+0.000000j), (105521980833689.000000+0.000000j), (105531642904541.000000+0.000000j), (105541305565177.000000+0.000000j) ]\n"
     ]
    }
   ],
   "source": [
    "evaluator.mult(ciphertext_3, ciphertext_3, ciphertext_tmp_2) # x^2\n",
    "scalar_2 = 2\n",
    "evaluator.mult(ciphertext_tmp_2, scalar_2, ciphertext_tmp_22) # 2 x^2\n",
    "\n",
    "evaluator.mult(ciphertext_tmp_2, ciphertext_3, ciphertext_tmp_3) # x^3\n",
    "scalar_3 = 3\n",
    "evaluator.mult(ciphertext_tmp_3, scalar_3, ciphertext_tmp_33) # 3 x^3\n",
    "\n",
    "ciphertext_tmp_poly = heaan.Ciphertext(context)\n",
    "evaluator.sub(ciphertext_tmp_33, ciphertext_tmp_22, ciphertext_tmp_poly) # 3 x^3 - 2 x^2\n",
    "evaluator.add(ciphertext_tmp_poly, ciphertext_3, ciphertext_tmp_poly) # 3 x^3 - 2 x^2 + x\n",
    "\n",
    "scalar_1 = 1\n",
    "evaluator.sub(ciphertext_tmp_poly, scalar_1, ciphertext_tmp_poly) # 3 x^3 - 2 x^2 + x - 1\n",
    "\n",
    "decryptor = heaan.Decryptor(context)\n",
    "message_result = heaan.Message()\n",
    "decryptor.decrypt(ciphertext_tmp_poly, secret_key, message_result)\n",
    "\n",
    "print(message_result)"
   ]
  },
  {
   "cell_type": "markdown",
   "id": "bf62a5af",
   "metadata": {},
   "source": [
    "# 로테이션"
   ]
  },
  {
   "cell_type": "code",
   "execution_count": 38,
   "id": "7b3174ea",
   "metadata": {},
   "outputs": [
    {
     "name": "stdout",
     "output_type": "stream",
     "text": [
      "Help on module piheaan.math.approx in piheaan.math:\n",
      "\n",
      "NAME\n",
      "    piheaan.math.approx - approx submodule\n",
      "\n",
      "FUNCTIONS\n",
      "    compare(...) method of builtins.PyCapsule instance\n",
      "        compare(eval: piheaan.HomEvaluator, op1: piheaan.Ciphertext, op2: piheaan.Ciphertext, res: piheaan.Ciphertext, numiter_g: int = 8, numiter_f: int = 3) -> None\n",
      "    \n",
      "    discrete_equal(...) method of builtins.PyCapsule instance\n",
      "        discrete_equal(eval: piheaan.HomEvaluator, op1: piheaan.Ciphertext, op2: piheaan.Ciphertext, res: piheaan.Ciphertext) -> None\n",
      "    \n",
      "    discrete_equal_zero(...) method of builtins.PyCapsule instance\n",
      "        discrete_equal_zero(eval: piheaan.HomEvaluator, op: piheaan.Ciphertext, res: piheaan.Ciphertext) -> None\n",
      "    \n",
      "    inverse(...) method of builtins.PyCapsule instance\n",
      "        inverse(eval: piheaan.HomEvaluator, op: piheaan.Ciphertext, res: piheaan.Ciphertext, init: Optional[float] = None, num_iter: Optional[int] = None, greater_than_one: bool = True) -> None\n",
      "        \n",
      "        defaul values are init=pow(2, -18), num_iter=23 if greater_than_one==true, otherwise init=pow(2, -10), num_iter=15\n",
      "    \n",
      "    inverse_wide(...) method of builtins.PyCapsule instance\n",
      "        inverse_wide(eval: piheaan.HomEvaluator, op: piheaan.Ciphertext, res: piheaan.Ciphertext, init: float, num_iter: int, de_rate: float, de_iter_num: int) -> None\n",
      "    \n",
      "    log(...) method of builtins.PyCapsule instance\n",
      "        log(eval: piheaan.HomEvaluator, op: piheaan.Ciphertext, res: piheaan.Ciphertext, base: float, log_range: int = 18, greater_than_one: bool = True) -> None\n",
      "    \n",
      "    log_10(...) method of builtins.PyCapsule instance\n",
      "        log_10(eval: piheaan.HomEvaluator, op: piheaan.Ciphertext, res: piheaan.Ciphertext, log_range: int = 18, greater_than_one: bool = True) -> None\n",
      "    \n",
      "    log_2(...) method of builtins.PyCapsule instance\n",
      "        log_2(eval: piheaan.HomEvaluator, op: piheaan.Ciphertext, res: piheaan.Ciphertext, log_range: int = 18, greater_than_one: bool = True) -> None\n",
      "    \n",
      "    log_e(...) method of builtins.PyCapsule instance\n",
      "        log_e(eval: piheaan.HomEvaluator, op: piheaan.Ciphertext, res: piheaan.Ciphertext, log_range: int = 18, greater_than_one: bool = True) -> None\n",
      "    \n",
      "    min_max(...) method of builtins.PyCapsule instance\n",
      "        min_max(eval: piheaan.HomEvaluator, op1: piheaan.Ciphertext, op2: piheaan.Ciphertext, min: piheaan.Ciphertext, max: piheaan.Ciphertext, numiter_g: int = 8, numiter_f: int = 3) -> None\n",
      "    \n",
      "    relu(...) method of builtins.PyCapsule instance\n",
      "        relu(eval: piheaan.HomEvaluator, op: piheaan.Ciphertext, res: piheaan.Ciphertext) -> None\n",
      "    \n",
      "    sigmoid(...) method of builtins.PyCapsule instance\n",
      "        sigmoid(eval: piheaan.HomEvaluator, op: piheaan.Ciphertext, res: piheaan.Ciphertext, range: float = 8.0) -> None\n",
      "    \n",
      "    sigmoid_wide(...) method of builtins.PyCapsule instance\n",
      "        sigmoid_wide(eval: piheaan.HomEvaluator, op: piheaan.Ciphertext, res: piheaan.Ciphertext, domain_range: float = 27.0, domain_extension_order: int = 10, domain_extension_rate: float = 2.0) -> None\n",
      "    \n",
      "    sign(...) method of builtins.PyCapsule instance\n",
      "        sign(eval: piheaan.HomEvaluator, op: piheaan.Ciphertext, res: piheaan.Ciphertext, numiter_g: int = 8, numiter_f: int = 3) -> None\n",
      "    \n",
      "    sqrt(...) method of builtins.PyCapsule instance\n",
      "        sqrt(eval: piheaan.HomEvaluator, op: piheaan.Ciphertext, res: piheaan.Ciphertext, num_iter: int = 17) -> None\n",
      "    \n",
      "    sqrt_inverse(...) method of builtins.PyCapsule instance\n",
      "        sqrt_inverse(eval: piheaan.HomEvaluator, op: piheaan.Ciphertext, res: piheaan.Ciphertext, init: Optional[float] = None, num_iter: Optional[int] = None, greater_than_one: bool = True) -> None\n",
      "        \n",
      "        defaul values are init=pow(2, -9), num_iter=20 if greater_than_one==true, otherwise init=pow(2, -5), num_iter=14\n",
      "\n",
      "FILE\n",
      "    (built-in)\n",
      "\n",
      "\n"
     ]
    }
   ],
   "source": [
    "help(heaan.math.approx)"
   ]
  },
  {
   "cell_type": "code",
   "execution_count": 32,
   "id": "b8973cfe",
   "metadata": {
    "scrolled": true
   },
   "outputs": [
    {
     "name": "stdout",
     "output_type": "stream",
     "text": [
      "평문 로테이션 :  [ (0.000000+0.000000j), (0.000000+0.000000j), (0.000000+0.000000j), (0.000000+0.000000j), (0.000000+0.000000j), ..., (0.000000+0.000000j), (0.000000+0.000000j), (0.000000+0.000000j), (0.000000+0.000000j), (0.000000+0.000000j) ]\n",
      "\n",
      "left 로테이션 : [ (2.000000+0.000000j), (3.000000+0.000000j), (4.000000+0.000000j), (5.000000+0.000000j), (6.000000+0.000000j), ..., (32765.000000+0.000000j), (32766.000000+0.000000j), (32767.000000+0.000000j), (0.000000+0.000000j), (1.000000+0.000000j) ]\n",
      "\n",
      "right 로테이션 : [ (32755.000000+0.000000j), (32756.000000+0.000000j), (32757.000000+0.000000j), (32758.000000+0.000000j), (32759.000000+0.000000j), ..., (32750.000000+0.000000j), (32751.000000+0.000000j), (32752.000000+0.000000j), (32753.000000+0.000000j), (32754.000000+0.000000j) ]\n"
     ]
    }
   ],
   "source": [
    "message_left_rotate = heaan.Message(log_slots)\n",
    "ciphertext_left_rotate = heaan.Ciphertext(context)\n",
    "evaluator.left_rotate(ciphertext, 2**1, ciphertext_left_rotate)\n",
    "\n",
    "message_out_left_rotate = heaan.Message(log_slots)\n",
    "decryptor.decrypt(ciphertext_left_rotate, secret_key, message_out_left_rotate)\n",
    "\n",
    "print('평문 로테이션 : ', message_left_rotate)\n",
    "print()\n",
    "print('left 로테이션 :', message_out_left_rotate)\n",
    "print()\n",
    "\n",
    "\n",
    "ciphertext_right_rotate = heaan.Ciphertext(context)\n",
    "key_generator.gen_right_rot_key(13)     # gen_common_keys() 명령으로는 2^* 로테이션키만 생성 \n",
    "evaluator.right_rotate(ciphertext, 13, ciphertext_right_rotate)\n",
    "\n",
    "message_out_right_rotate = heaan.Message(log_slots)\n",
    "\n",
    "decryptor.decrypt(ciphertext_right_rotate, secret_key, message_out_right_rotate)\n",
    "print('right 로테이션 :', message_out_right_rotate)"
   ]
  },
  {
   "cell_type": "markdown",
   "id": "669871ab",
   "metadata": {},
   "source": [
    "# 평균"
   ]
  },
  {
   "cell_type": "code",
   "execution_count": 39,
   "id": "601a1327",
   "metadata": {},
   "outputs": [
    {
     "name": "stdout",
     "output_type": "stream",
     "text": [
      "data_3 [0, 1, 2, 3, 4, 5, 6, 7, 8, 9, 10, 11, 12, 13, 14, 15, 16, 17, 18, 19, 20, 21, 22, 23, 24, 25, 26, 27, 28, 29, 30, 31]\n",
      "\n",
      "message_3 :  [ (0.000000+0.000000j), (1.000000+0.000000j), (2.000000+0.000000j), (3.000000+0.000000j), (4.000000+0.000000j), ..., (27.000000+0.000000j), (28.000000+0.000000j), (29.000000+0.000000j), (30.000000+0.000000j), (31.000000+0.000000j) ]\n",
      "\n",
      "message_out_avg :  [ (15.500000+0.000000j), (15.500000+0.000000j), (15.500000+0.000000j), (15.500000+0.000000j), (15.500000+0.000000j), ..., (15.500000+0.000000j), (15.500000+0.000000j), (15.500000+0.000000j), (15.500000+0.000000j), (15.500000+0.000000j) ]\n"
     ]
    }
   ],
   "source": [
    "import numpy as np\n",
    "#import math\n",
    "\n",
    "log_slots = 5\n",
    "num_slots = 2 ** log_slots  #num_slots = 2**7 = 128\n",
    "\n",
    "#data_3 = np.random.uniform(size=2**7)\n",
    "data_3 = [i for i in range(num_slots)]\n",
    "\n",
    "#for i in range(num_slots):\n",
    "#    data_3[i] = data_3[i]+1\n",
    "    \n",
    "    \n",
    "print('data_3', data_3)\n",
    "print()\n",
    "\n",
    "message_3 = heaan.Message(log_slots)\n",
    "\n",
    "for i in range(num_slots):\n",
    "    message_3[i]=data_3[i]\n",
    "\n",
    "print('message_3 : ', message_3)\n",
    "print()\n",
    "    \n",
    "encryptor = heaan.Encryptor(context)\n",
    "ciphertext_3 = heaan.Ciphertext(context)\n",
    "encryptor.encrypt(message_3, public_key, ciphertext_3)\n",
    "\n",
    "for i in range(log_slots):\n",
    "    ciphertext_tmp = heaan.Ciphertext(context)\n",
    "    evaluator.left_rotate(ciphertext_3, 2**i, ciphertext_tmp)\n",
    "    evaluator.add(ciphertext_3, ciphertext_tmp, ciphertext_3)\n",
    "    \n",
    "ciphertext_avg = heaan.Ciphertext(context)\n",
    "evaluator.mult(ciphertext_3, 1/num_slots, ciphertext_avg)\n",
    "\n",
    "message_out_avg = heaan.Message(log_slots)\n",
    "decryptor.decrypt(ciphertext_avg, secret_key, message_out_avg)\n",
    "print('message_out_avg : ', message_out_avg)"
   ]
  },
  {
   "cell_type": "code",
   "execution_count": 34,
   "id": "7c5e9bff",
   "metadata": {},
   "outputs": [
    {
     "name": "stdout",
     "output_type": "stream",
     "text": [
      "현재 암호문의 레벨 :  12\n",
      "-1 ~1 사이 부트스트랩을 위한 최소레벨 :  3\n",
      "-2^20 ~ 2^20 사이 부트스트랩을 위한 최소 레벨 : 4\n",
      "\n",
      "message_out_avg :  [ (15.500000+0.000000j), (15.500000+0.000000j), (15.500000+0.000000j), (15.500000+0.000000j), (15.500000+0.000000j), ..., (15.500000+0.000000j), (15.500000+0.000000j), (15.500000+0.000000j), (15.500000+0.000000j), (15.500000+0.000000j) ]\n",
      "\n",
      "message_out_bootstrap_1 :  [ (15.500000+0.000000j), (15.500000+0.000000j), (15.500000+0.000000j), (15.500000+0.000000j), (15.500000+0.000000j), ..., (15.500000+0.000000j), (15.500000+0.000000j), (15.500000+0.000000j), (15.500000+0.000000j), (15.500000+0.000000j) ]\n",
      "\n",
      "message_out_bootstrap_0 :  [ (15.500000+0.000000j), (15.500000+0.000000j), (15.500000+0.000000j), (15.500000+0.000000j), (15.500000+0.000000j), ..., (15.500000+0.000000j), (15.500000+0.000000j), (15.500000+0.000000j), (15.500000+0.000000j), (15.500000+0.000000j) ]\n",
      "\n",
      "message_out_bootstarp_extended :  [ (15.500000+0.000000j), (15.500000+0.000000j), (15.500000+0.000000j), (15.500000+0.000000j), (15.500000+0.000000j), ..., (15.500000+0.000000j), (15.500000+0.000000j), (15.500000+0.000000j), (15.500000+0.000000j), (15.500000+0.000000j) ]\n"
     ]
    }
   ],
   "source": [
    "\"\"\"\n",
    "1. bootstrap(self: piheaan.HomEvaluator, op: piheaan.Ciphertext, res: piheaan.Ciphertext, is_complex: bool = False)\n",
    "   - is_complex = True이면 결과값은 res = op, False이면 결과값은 res = op.real()을 리턴. \n",
    "   \n",
    "2.bootstrap(self: piheaan.HomEvaluator, op: piheaan.Ciphertext, res1: piheaan.Ciphertext, res2: piheaan.Ciphertext)\n",
    "   - 결과값은 res1 = op1.real(), res2 = op1.imag()\n",
    "\n",
    "3. bootstrap(self: piheaan.HomEvaluator, op1: piheaan.Ciphertext, op2: piheaan.Ciphertext, res1: piheaan.Ciphertext, res2: piheaan.Ciphertext)\n",
    "   - 실수부만 가진 op1과 op2가 주어졌을 때 res1 = op1, res2 = op2 를 리턴\n",
    "   (op1과 op2를 각각 real bootstrap하는 것보다 complex bootstrap 한번으로 실수파트와 허수 파트로 나눔)\n",
    "   \n",
    "bootstrap_extended(self: piheaan.HomEvaluator, op: piheaan.Ciphertext, res: piheaan.Ciphertext, is_complex: bool = False)\n",
    "\n",
    "\"\"\"\n",
    "print('현재 암호문의 레벨 : ', ciphertext.level)\n",
    "print('-1 ~1 사이 부트스트랩을 위한 최소레벨 : ', evaluator.min_level_for_bootstrap)\n",
    "print('-2^20 ~ 2^20 사이 부트스트랩을 위한 최소 레벨 :', evaluator.min_level_for_bootstrap_extended)\n",
    "print()\n",
    "\n",
    "ciphertext_bootstrap_1 = heaan.Ciphertext(context)\n",
    "ciphertext_bootstrap_0 = heaan.Ciphertext(context)\n",
    "ciphertext_bootstrap_extended = heaan.Ciphertext(context)\n",
    "evaluator.bootstrap(ciphertext_avg, ciphertext_bootstrap_1, 1) \n",
    "evaluator.bootstrap(ciphertext_avg, ciphertext_bootstrap_0, 0) \n",
    "evaluator.bootstrap_extended(ciphertext_avg, ciphertext_bootstrap_extended, 1)     \n",
    "\n",
    "message_out__avg = heaan.Message(log_slots)\n",
    "message_out_bootstrap_1 = heaan.Message(log_slots)\n",
    "message_out_bootstrap_0 = heaan.Message(log_slots)\n",
    "message_out_bootstrap_extended = heaan.Message(log_slots)\n",
    "\n",
    "decryptor.decrypt(ciphertext_avg, secret_key, message_out_avg)\n",
    "decryptor.decrypt(ciphertext_bootstrap_1, secret_key, message_out_bootstrap_1)\n",
    "decryptor.decrypt(ciphertext_bootstrap_0, secret_key, message_out_bootstrap_0)\n",
    "decryptor.decrypt(ciphertext_bootstrap_extended, secret_key, message_out_bootstrap_extended)\n",
    "\n",
    "print('message_out_avg : ', message_out_avg)\n",
    "print()\n",
    "print('message_out_bootstrap_1 : ', message_out_bootstrap_1)\n",
    "print()\n",
    "print('message_out_bootstrap_0 : ', message_out_bootstrap_0)\n",
    "print()\n",
    "print('message_out_bootstarp_extended : ', message_out_bootstrap_extended)"
   ]
  },
  {
   "cell_type": "code",
   "execution_count": null,
   "id": "0c4ad98e",
   "metadata": {},
   "outputs": [],
   "source": []
  }
 ],
 "metadata": {
  "kernelspec": {
   "display_name": "Python 3 (ipykernel)",
   "language": "python",
   "name": "python3"
  },
  "language_info": {
   "codemirror_mode": {
    "name": "ipython",
    "version": 3
   },
   "file_extension": ".py",
   "mimetype": "text/x-python",
   "name": "python",
   "nbconvert_exporter": "python",
   "pygments_lexer": "ipython3",
   "version": "3.9.13"
  }
 },
 "nbformat": 4,
 "nbformat_minor": 5
}
